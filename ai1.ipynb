{
  "nbformat": 4,
  "nbformat_minor": 0,
  "metadata": {
    "colab": {
      "provenance": [],
      "collapsed_sections": []
    },
    "kernelspec": {
      "name": "python3",
      "display_name": "Python 3"
    },
    "language_info": {
      "name": "python"
    }
  },
  "cells": [
    {
      "cell_type": "code",
      "execution_count": 221,
      "metadata": {
        "colab": {
          "base_uri": "https://localhost:8080/"
        },
        "id": "XxcWx_F8ukR0",
        "outputId": "3c1bb568-1704-4e6d-cde6-8bdf00a4051a"
      },
      "outputs": [
        {
          "output_type": "stream",
          "name": "stdout",
          "text": [
            "The autoreload extension is already loaded. To reload it, use:\n",
            "  %reload_ext autoreload\n"
          ]
        }
      ],
      "source": [
        "%load_ext autoreload\n",
        "%autoreload 2\n",
        "%matplotlib inline"
      ]
    },
    {
      "cell_type": "code",
      "source": [
        "import pandas as pd\n",
        "import numpy as np\n",
        "\n",
        "from pandas.plotting import scatter_matrix\n",
        "from seaborn import scatterplot, heatmap, barplot\n",
        "\n",
        "from sklearn.model_selection import train_test_split\n",
        "\n",
        "from sklearn.compose import ColumnTransformer\n",
        "from sklearn.pipeline import Pipeline\n",
        "\n",
        "from sklearn.impute import SimpleImputer\n",
        "from sklearn.preprocessing import StandardScaler\n",
        "from sklearn.preprocessing import MinMaxScaler\n",
        "from sklearn.preprocessing import RobustScaler\n",
        "\n",
        "from sklearn.preprocessing import OneHotEncoder\n",
        "\n",
        "from sklearn.base import BaseEstimator, TransformerMixin\n",
        "\n",
        "from sklearn.linear_model import Ridge, LinearRegression\n",
        "from sklearn.neighbors import KNeighborsRegressor\n",
        "\n",
        "from sklearn.model_selection import GridSearchCV\n",
        "from sklearn.model_selection import cross_validate\n",
        "\n",
        "from sklearn.metrics import mean_absolute_error\n",
        "\n",
        "from joblib import dump"
      ],
      "metadata": {
        "id": "SAvGnhQ2unQ0"
      },
      "execution_count": 222,
      "outputs": []
    },
    {
      "cell_type": "markdown",
      "source": [
        "## IMPORTANT NOTE\n",
        "- its come to my attention upon reading the submission page again that i should have set basesalary as the target value. when completing this originally i assumed that totalyearlycompensation would be a better target but the submission specifically states it wants base salary.\n",
        "- this could be relativiely easily ammended by changing a few lines of code but i worry that doing that at this late stage will cause errors that i wont have time to fix.\n",
        "- so ive kept my target as TYC and accept all negative ramifications (although if anything using TYC as the target is more difficult anyyway)"
      ],
      "metadata": {
        "id": "30nSIpjqHz6d"
      }
    },
    {
      "cell_type": "code",
      "source": [
        "url = 'https://raw.githubusercontent.com/derekgbridge/artificial_intelligence/master/ai1/datasets/dataset_salaries.csv'\n",
        "df = pd.read_csv(url)\n"
      ],
      "metadata": {
        "id": "eO5y7hEsvFK0"
      },
      "execution_count": 223,
      "outputs": []
    },
    {
      "cell_type": "code",
      "source": [
        "# shuffle our data to remove any unwanted ordering \n",
        "df = df.sample(frac=1, random_state=2)\n",
        "df.reset_index(drop=True, inplace=True)"
      ],
      "metadata": {
        "id": "VzYrHS-150io"
      },
      "execution_count": 224,
      "outputs": []
    },
    {
      "cell_type": "code",
      "source": [
        "#We then have a look at columns and values \n",
        "df.head()"
      ],
      "metadata": {
        "colab": {
          "base_uri": "https://localhost:8080/",
          "height": 472
        },
        "id": "WxyAepHH50st",
        "outputId": "8f5368f6-c12e-4d54-8de2-8d5125e3751b"
      },
      "execution_count": 225,
      "outputs": [
        {
          "output_type": "execute_result",
          "data": {
            "text/plain": [
              "            timestamp      company                     level  \\\n",
              "0  11/3/2020 10:26:30    Microsoft                        60   \n",
              "1  8/14/2018 21:08:29       VMware                Senior MTS   \n",
              "2   5/18/2019 0:32:17       Paypal                       T25   \n",
              "3   8/3/2021 20:25:07  Trend Micro           Senior Engineer   \n",
              "4   5/3/2021 15:25:42         Visa  Senior Software Engineer   \n",
              "\n",
              "               title  totalyearlycompensation            location  \\\n",
              "0     Data Scientist                      181         Redmond, WA   \n",
              "1  Software Engineer                        0       Palo Alto, CA   \n",
              "2  Software Engineer                      213   San Francisco, CA   \n",
              "3  Software Engineer                       18  Taipei, TP, Taiwan   \n",
              "4  Software Engineer                      179          Austin, TX   \n",
              "\n",
              "   yearsofexperience  yearsatcompany                             tag  \\\n",
              "0                  1               1                         ML / AI   \n",
              "1                  5               3                      Full Stack   \n",
              "2                  7               1      API Development (Back-End)   \n",
              "3                  2               2  Distributed Systems (Back-End)   \n",
              "4                  3               0                      Full Stack   \n",
              "\n",
              "   basesalary  stockgrantvalue  bonus  gender  \\\n",
              "0         104               47     30    Male   \n",
              "1           0                0      0     NaN   \n",
              "2         180               19     14    Male   \n",
              "3          14                1      3    Male   \n",
              "4         158                9     12  Female   \n",
              "\n",
              "                                        otherdetails  cityid  dmaid  rowNumber  \n",
              "0  mckeiaps hash ghaart gronds wuit zearts tsiott...   11521  819.0      47529  \n",
              "1                                                NaN    7351  807.0       1418  \n",
              "2                                                NaN    7419  807.0       8815  \n",
              "3  mcclieusp hyoully preebly gloiands screoch sch...    6744    0.0      81297  \n",
              "4  dyniawn cauny spliur cleals crungs kwoiw thrai...   10965  635.0      68303  "
            ],
            "text/html": [
              "\n",
              "  <div id=\"df-737252a8-b76d-4a8a-b0e8-668788191f42\">\n",
              "    <div class=\"colab-df-container\">\n",
              "      <div>\n",
              "<style scoped>\n",
              "    .dataframe tbody tr th:only-of-type {\n",
              "        vertical-align: middle;\n",
              "    }\n",
              "\n",
              "    .dataframe tbody tr th {\n",
              "        vertical-align: top;\n",
              "    }\n",
              "\n",
              "    .dataframe thead th {\n",
              "        text-align: right;\n",
              "    }\n",
              "</style>\n",
              "<table border=\"1\" class=\"dataframe\">\n",
              "  <thead>\n",
              "    <tr style=\"text-align: right;\">\n",
              "      <th></th>\n",
              "      <th>timestamp</th>\n",
              "      <th>company</th>\n",
              "      <th>level</th>\n",
              "      <th>title</th>\n",
              "      <th>totalyearlycompensation</th>\n",
              "      <th>location</th>\n",
              "      <th>yearsofexperience</th>\n",
              "      <th>yearsatcompany</th>\n",
              "      <th>tag</th>\n",
              "      <th>basesalary</th>\n",
              "      <th>stockgrantvalue</th>\n",
              "      <th>bonus</th>\n",
              "      <th>gender</th>\n",
              "      <th>otherdetails</th>\n",
              "      <th>cityid</th>\n",
              "      <th>dmaid</th>\n",
              "      <th>rowNumber</th>\n",
              "    </tr>\n",
              "  </thead>\n",
              "  <tbody>\n",
              "    <tr>\n",
              "      <th>0</th>\n",
              "      <td>11/3/2020 10:26:30</td>\n",
              "      <td>Microsoft</td>\n",
              "      <td>60</td>\n",
              "      <td>Data Scientist</td>\n",
              "      <td>181</td>\n",
              "      <td>Redmond, WA</td>\n",
              "      <td>1</td>\n",
              "      <td>1</td>\n",
              "      <td>ML / AI</td>\n",
              "      <td>104</td>\n",
              "      <td>47</td>\n",
              "      <td>30</td>\n",
              "      <td>Male</td>\n",
              "      <td>mckeiaps hash ghaart gronds wuit zearts tsiott...</td>\n",
              "      <td>11521</td>\n",
              "      <td>819.0</td>\n",
              "      <td>47529</td>\n",
              "    </tr>\n",
              "    <tr>\n",
              "      <th>1</th>\n",
              "      <td>8/14/2018 21:08:29</td>\n",
              "      <td>VMware</td>\n",
              "      <td>Senior MTS</td>\n",
              "      <td>Software Engineer</td>\n",
              "      <td>0</td>\n",
              "      <td>Palo Alto, CA</td>\n",
              "      <td>5</td>\n",
              "      <td>3</td>\n",
              "      <td>Full Stack</td>\n",
              "      <td>0</td>\n",
              "      <td>0</td>\n",
              "      <td>0</td>\n",
              "      <td>NaN</td>\n",
              "      <td>NaN</td>\n",
              "      <td>7351</td>\n",
              "      <td>807.0</td>\n",
              "      <td>1418</td>\n",
              "    </tr>\n",
              "    <tr>\n",
              "      <th>2</th>\n",
              "      <td>5/18/2019 0:32:17</td>\n",
              "      <td>Paypal</td>\n",
              "      <td>T25</td>\n",
              "      <td>Software Engineer</td>\n",
              "      <td>213</td>\n",
              "      <td>San Francisco, CA</td>\n",
              "      <td>7</td>\n",
              "      <td>1</td>\n",
              "      <td>API Development (Back-End)</td>\n",
              "      <td>180</td>\n",
              "      <td>19</td>\n",
              "      <td>14</td>\n",
              "      <td>Male</td>\n",
              "      <td>NaN</td>\n",
              "      <td>7419</td>\n",
              "      <td>807.0</td>\n",
              "      <td>8815</td>\n",
              "    </tr>\n",
              "    <tr>\n",
              "      <th>3</th>\n",
              "      <td>8/3/2021 20:25:07</td>\n",
              "      <td>Trend Micro</td>\n",
              "      <td>Senior Engineer</td>\n",
              "      <td>Software Engineer</td>\n",
              "      <td>18</td>\n",
              "      <td>Taipei, TP, Taiwan</td>\n",
              "      <td>2</td>\n",
              "      <td>2</td>\n",
              "      <td>Distributed Systems (Back-End)</td>\n",
              "      <td>14</td>\n",
              "      <td>1</td>\n",
              "      <td>3</td>\n",
              "      <td>Male</td>\n",
              "      <td>mcclieusp hyoully preebly gloiands screoch sch...</td>\n",
              "      <td>6744</td>\n",
              "      <td>0.0</td>\n",
              "      <td>81297</td>\n",
              "    </tr>\n",
              "    <tr>\n",
              "      <th>4</th>\n",
              "      <td>5/3/2021 15:25:42</td>\n",
              "      <td>Visa</td>\n",
              "      <td>Senior Software Engineer</td>\n",
              "      <td>Software Engineer</td>\n",
              "      <td>179</td>\n",
              "      <td>Austin, TX</td>\n",
              "      <td>3</td>\n",
              "      <td>0</td>\n",
              "      <td>Full Stack</td>\n",
              "      <td>158</td>\n",
              "      <td>9</td>\n",
              "      <td>12</td>\n",
              "      <td>Female</td>\n",
              "      <td>dyniawn cauny spliur cleals crungs kwoiw thrai...</td>\n",
              "      <td>10965</td>\n",
              "      <td>635.0</td>\n",
              "      <td>68303</td>\n",
              "    </tr>\n",
              "  </tbody>\n",
              "</table>\n",
              "</div>\n",
              "      <button class=\"colab-df-convert\" onclick=\"convertToInteractive('df-737252a8-b76d-4a8a-b0e8-668788191f42')\"\n",
              "              title=\"Convert this dataframe to an interactive table.\"\n",
              "              style=\"display:none;\">\n",
              "        \n",
              "  <svg xmlns=\"http://www.w3.org/2000/svg\" height=\"24px\"viewBox=\"0 0 24 24\"\n",
              "       width=\"24px\">\n",
              "    <path d=\"M0 0h24v24H0V0z\" fill=\"none\"/>\n",
              "    <path d=\"M18.56 5.44l.94 2.06.94-2.06 2.06-.94-2.06-.94-.94-2.06-.94 2.06-2.06.94zm-11 1L8.5 8.5l.94-2.06 2.06-.94-2.06-.94L8.5 2.5l-.94 2.06-2.06.94zm10 10l.94 2.06.94-2.06 2.06-.94-2.06-.94-.94-2.06-.94 2.06-2.06.94z\"/><path d=\"M17.41 7.96l-1.37-1.37c-.4-.4-.92-.59-1.43-.59-.52 0-1.04.2-1.43.59L10.3 9.45l-7.72 7.72c-.78.78-.78 2.05 0 2.83L4 21.41c.39.39.9.59 1.41.59.51 0 1.02-.2 1.41-.59l7.78-7.78 2.81-2.81c.8-.78.8-2.07 0-2.86zM5.41 20L4 18.59l7.72-7.72 1.47 1.35L5.41 20z\"/>\n",
              "  </svg>\n",
              "      </button>\n",
              "      \n",
              "  <style>\n",
              "    .colab-df-container {\n",
              "      display:flex;\n",
              "      flex-wrap:wrap;\n",
              "      gap: 12px;\n",
              "    }\n",
              "\n",
              "    .colab-df-convert {\n",
              "      background-color: #E8F0FE;\n",
              "      border: none;\n",
              "      border-radius: 50%;\n",
              "      cursor: pointer;\n",
              "      display: none;\n",
              "      fill: #1967D2;\n",
              "      height: 32px;\n",
              "      padding: 0 0 0 0;\n",
              "      width: 32px;\n",
              "    }\n",
              "\n",
              "    .colab-df-convert:hover {\n",
              "      background-color: #E2EBFA;\n",
              "      box-shadow: 0px 1px 2px rgba(60, 64, 67, 0.3), 0px 1px 3px 1px rgba(60, 64, 67, 0.15);\n",
              "      fill: #174EA6;\n",
              "    }\n",
              "\n",
              "    [theme=dark] .colab-df-convert {\n",
              "      background-color: #3B4455;\n",
              "      fill: #D2E3FC;\n",
              "    }\n",
              "\n",
              "    [theme=dark] .colab-df-convert:hover {\n",
              "      background-color: #434B5C;\n",
              "      box-shadow: 0px 1px 3px 1px rgba(0, 0, 0, 0.15);\n",
              "      filter: drop-shadow(0px 1px 2px rgba(0, 0, 0, 0.3));\n",
              "      fill: #FFFFFF;\n",
              "    }\n",
              "  </style>\n",
              "\n",
              "      <script>\n",
              "        const buttonEl =\n",
              "          document.querySelector('#df-737252a8-b76d-4a8a-b0e8-668788191f42 button.colab-df-convert');\n",
              "        buttonEl.style.display =\n",
              "          google.colab.kernel.accessAllowed ? 'block' : 'none';\n",
              "\n",
              "        async function convertToInteractive(key) {\n",
              "          const element = document.querySelector('#df-737252a8-b76d-4a8a-b0e8-668788191f42');\n",
              "          const dataTable =\n",
              "            await google.colab.kernel.invokeFunction('convertToInteractive',\n",
              "                                                     [key], {});\n",
              "          if (!dataTable) return;\n",
              "\n",
              "          const docLinkHtml = 'Like what you see? Visit the ' +\n",
              "            '<a target=\"_blank\" href=https://colab.research.google.com/notebooks/data_table.ipynb>data table notebook</a>'\n",
              "            + ' to learn more about interactive tables.';\n",
              "          element.innerHTML = '';\n",
              "          dataTable['output_type'] = 'display_data';\n",
              "          await google.colab.output.renderOutput(dataTable, element);\n",
              "          const docLink = document.createElement('div');\n",
              "          docLink.innerHTML = docLinkHtml;\n",
              "          element.appendChild(docLink);\n",
              "        }\n",
              "      </script>\n",
              "    </div>\n",
              "  </div>\n",
              "  "
            ]
          },
          "metadata": {},
          "execution_count": 225
        }
      ]
    },
    {
      "cell_type": "code",
      "source": [
        "df.columns"
      ],
      "metadata": {
        "colab": {
          "base_uri": "https://localhost:8080/"
        },
        "id": "fE4ogLYd5030",
        "outputId": "dbc0faee-568a-4033-d115-fcad8615c185"
      },
      "execution_count": 226,
      "outputs": [
        {
          "output_type": "execute_result",
          "data": {
            "text/plain": [
              "Index(['timestamp', 'company', 'level', 'title', 'totalyearlycompensation',\n",
              "       'location', 'yearsofexperience', 'yearsatcompany', 'tag', 'basesalary',\n",
              "       'stockgrantvalue', 'bonus', 'gender', 'otherdetails', 'cityid', 'dmaid',\n",
              "       'rowNumber'],\n",
              "      dtype='object')"
            ]
          },
          "metadata": {},
          "execution_count": 226
        }
      ]
    },
    {
      "cell_type": "markdown",
      "source": [
        "## Given I intend on making 'TotalYearlyCompensation' as the target i can make the following removals from the dataset\n",
        "\n",
        "### Easy Ones\n",
        "- Timestamp -> No relation to target\n",
        "- rowNumber -> No relation to target \n",
        "-  OtherDetails -> Going to be way too random evidenced by the fact that the most common of all 40,132 was the cryptic 'twauesly' with a total of 2 entries, hypathetically you could some NLP to get similarities across entries, but I lack the skill and the will"
      ],
      "metadata": {
        "id": "CFs6p0G76p69"
      }
    },
    {
      "cell_type": "code",
      "source": [
        "columns_to_remove = ['timestamp','rowNumber', 'otherdetails']\n",
        "df.drop(columns_to_remove,axis=1, inplace=True)\n",
        "df.reset_index(drop=True, inplace=True)"
      ],
      "metadata": {
        "id": "XPoStEc-50_m"
      },
      "execution_count": 227,
      "outputs": []
    },
    {
      "cell_type": "markdown",
      "source": [
        "## Looking at the remaining columns, theres are more I would like to remove that require more explaination \n",
        "- Having looked at levels.fyi itself i can see it asks for base salary, bonus and stock info and one can assume that the data set then adds these 3 together to get totalYearlyCompensation. Given that TYC is directly made up of **base salary**, **bonus** and **stock info** we must remove them if we want a usuable model. (otherwise we'd be making a salary 'predictor' that asks for you base salary, bonus, and stocks which would be kind of insulting). \n",
        "Upon looking further at the dataset it seems that this isnt the case, there is an upload option on levels.fyi which i assume is where its getting its TYC figure because is certainly isn't the 3 other columns added together. My plan now is to make TYC the sum of the other 3 columns and remove them.\n",
        "- Next is **DmaID** which all rows have and has a min of 0 and max of 881 which is kind of weird given the fact theres 62640 rows but nonetheless given its unknown nature ill remove it \n",
        "-  **cityID** -> We have location already, which is in neat format given its forced to be in levels.fyi's dropdown menu, so cityID seems redundant. Also as a final product i would like if all the column values the model looks for to be human iterpretable, so potentially i could put in my details and get my estimate, Whats my City ID? Ive no idea, removed.\n",
        "Also, most importantly this is an example of an unordered nominal values which might cause the algorithm to assume that id's nearer each are more related which for city id's i see no reason as to why they would be \n",
        "\n",
        "\n"
      ],
      "metadata": {
        "id": "EspvW5A-6334"
      }
    },
    {
      "cell_type": "code",
      "source": [
        "columns_to_remove = ['cityid', 'dmaid']\n",
        "df.drop(columns_to_remove,axis=1, inplace=True)\n",
        "df.reset_index(drop=True, inplace=True)"
      ],
      "metadata": {
        "id": "L-ZLtuQH51N-"
      },
      "execution_count": 228,
      "outputs": []
    },
    {
      "cell_type": "markdown",
      "source": [
        "## Now well consider the money related fields\n",
        "- it seems all money related values have been divided by 1,000 so we'll have to think of them as units of thousands \n",
        "-  Ive realised its quite complicated to work out what an unresonable low salary would be in this dataset given that i cannot see the currency but ill try nonetheless\n",
        "- suppsosing that people working full time work 39 hours per week for 52 weeks of the year 39x52 = 2028 x (lets say 10 units of currency per hour minimum) = 20280 yearly salary. Lets call it 20,000 to be safe and remove all less than that \n",
        "-  lets assume that anyone making more that 500,000 base a year is lying, now many of them wont be but given how easy it is to lie id have to assume the majority over this limit are \n",
        "-  Lets also make some assumptions about stock and bonus which are realitive to base salary \n"
      ],
      "metadata": {
        "id": "IR69o9gXsPFg"
      }
    },
    {
      "cell_type": "code",
      "source": [
        "df['basesalary'].value_counts().describe()"
      ],
      "metadata": {
        "colab": {
          "base_uri": "https://localhost:8080/"
        },
        "id": "dk0lqtjU6EZ4",
        "outputId": "1c5cd0a0-8bec-4391-faf6-1322afb75f77"
      },
      "execution_count": 229,
      "outputs": [
        {
          "output_type": "execute_result",
          "data": {
            "text/plain": [
              "count    1263.000000\n",
              "mean       49.597783\n",
              "std       119.598045\n",
              "min         1.000000\n",
              "25%         1.000000\n",
              "50%         1.000000\n",
              "75%        14.000000\n",
              "max      2304.000000\n",
              "Name: basesalary, dtype: float64"
            ]
          },
          "metadata": {},
          "execution_count": 229
        }
      ]
    },
    {
      "cell_type": "code",
      "source": [
        "# set our min and max\n",
        "df = (df[(df[\"basesalary\"] >= 20) & (df[\"basesalary\"] < 500)]).copy()\n",
        "\n",
        "# lets assume no one is making a bonus more that the 1.5x the size of the base salary\n",
        "df = df[(df['bonus'] <= (df['basesalary']*1.5))].copy()\n",
        "\n",
        "#lets assume that also no one is getting stocks more than 2x their base salary\n",
        "df = df[(df['stockgrantvalue'] <= (df['basesalary']*2))].copy()\n",
        "\n",
        "# remove this gender\n",
        "df = df[(df['gender'] != 'Title: Senior Software Engineer')].copy()"
      ],
      "metadata": {
        "id": "AXb_FVQYjeqI"
      },
      "execution_count": 230,
      "outputs": []
    },
    {
      "cell_type": "markdown",
      "source": [
        "## Looking at the head of the dataset its become clear that 'totalYearlyCompensation' is in fact *not always* the adding together of basesalary,bonus and stockgrant value. Id guess this is becuase the levels.fyi site also includes a commission option which is missing in our dataset.\n",
        "## In my model it will be, so will will add them together and then remove basesalary,bonus and stockgrant value "
      ],
      "metadata": {
        "id": "wEFTD0LWjgIi"
      }
    },
    {
      "cell_type": "code",
      "source": [
        "df['totalyearlycompensation'] = df['basesalary'] + df['bonus'] + df['stockgrantvalue']\n",
        "money_columns_remove = ['basesalary', 'bonus', 'stockgrantvalue']\n",
        "df.drop(money_columns_remove,axis=1, inplace=True)\n",
        "df.reset_index(drop=True, inplace=True)"
      ],
      "metadata": {
        "id": "_iljXd7k6Hw6"
      },
      "execution_count": 231,
      "outputs": []
    },
    {
      "cell_type": "code",
      "source": [
        "df.shape"
      ],
      "metadata": {
        "colab": {
          "base_uri": "https://localhost:8080/"
        },
        "id": "lJLBn-6Uvl8U",
        "outputId": "01856b83-e6e9-489e-8cf1-ce0607ee81e0"
      },
      "execution_count": 232,
      "outputs": [
        {
          "output_type": "execute_result",
          "data": {
            "text/plain": [
              "(57614, 9)"
            ]
          },
          "metadata": {},
          "execution_count": 232
        }
      ]
    },
    {
      "cell_type": "markdown",
      "source": [
        "## Finally Im going to handle some of the NaNs. It might be a good idea, given the dataset size to do so, but for most columns all will allow NaNs to be handled by a SimpleImputer later on\n",
        "\n",
        "- ill try to remove NaNs for column in which I think it would be most inaccurate to replace the value with a mean or mode\n"
      ],
      "metadata": {
        "id": "x97I6_XUwym7"
      }
    },
    {
      "cell_type": "code",
      "source": [
        "# Delete examples where values are NaN\n",
        "df.dropna(subset=[\"totalyearlycompensation\", \"yearsofexperience\", \"yearsatcompany\", \"tag\", \"level\"], inplace=True)"
      ],
      "metadata": {
        "id": "lVVvT0O4xXaj"
      },
      "execution_count": 233,
      "outputs": []
    },
    {
      "cell_type": "markdown",
      "source": [
        "## I am now happy that all data seems reasonable, now I must handle the really big nominal value columns"
      ],
      "metadata": {
        "id": "rE3a6MZM7IME"
      }
    },
    {
      "cell_type": "code",
      "source": [
        "df.reset_index(drop=True, inplace=True)\n",
        "d = {}\n",
        "for column in df.columns:\n",
        "    d[column] = (df[column].unique()).size    \n",
        "d"
      ],
      "metadata": {
        "colab": {
          "base_uri": "https://localhost:8080/"
        },
        "id": "nUl8heRD6JJi",
        "outputId": "fc972637-9d08-46d2-a76a-4bfd4a6a1c0d"
      },
      "execution_count": 234,
      "outputs": [
        {
          "output_type": "execute_result",
          "data": {
            "text/plain": [
              "{'company': 1816,\n",
              " 'level': 2912,\n",
              " 'title': 15,\n",
              " 'totalyearlycompensation': 865,\n",
              " 'location': 1017,\n",
              " 'yearsofexperience': 56,\n",
              " 'yearsatcompany': 41,\n",
              " 'tag': 3101,\n",
              " 'gender': 4}"
            ]
          },
          "metadata": {},
          "execution_count": 234
        }
      ]
    },
    {
      "cell_type": "markdown",
      "source": [
        "## I was tempted to remove more columns ('tags' & 'level') because they are nominal features that have too many unique values to sensible one-hot encode (I'd end up with 6000+ more columns which seems dumb) but then I started Googling because surely this is a common issue...."
      ],
      "metadata": {
        "id": "X89SLe3OffQn"
      }
    },
    {
      "cell_type": "markdown",
      "source": [
        "\n",
        "## And came to the conclusion that there's a few different ways to tackle this:\n",
        "### Option 1 \n",
        "- Use different encoders. Followed This: [link](https://towardsdatascience.com/smarter-ways-to-encode-categorical-data-for-machine-learning-part-1-of-3-6dca2f71b159 \"Researched Here\").\n",
        "    - Binary Encoders (reduces dimensionality)\n",
        "    - Bayesian Encoders like Target, LeaveOneOut (seem the most complex invovles columns ratio to target which seems to highten both overfitting and leakage \n",
        "\n",
        "### Option 2\n",
        "- Try to reduce the number of rows in a column by grouping\n",
        "    - for tags could only use the most common tags, say N, and put the rest as other \n",
        "    - for location, given the data format, could easily change from \"city, county, country\" to just \"country\"\n",
        "\n",
        "### Option 3\n",
        "- Or a **combination of both**"
      ],
      "metadata": {
        "id": "vAEQyadV6m8Q"
      }
    },
    {
      "cell_type": "markdown",
      "source": [
        "## My idea is to take the Top N responses in the columns 'tag', 'levels' and 'company' and set the values to all remaining responses to 'other'\n",
        "\n",
        "- Cleary \"n\" here is something I can play around with but I read a good idea is to ensure the 'Other' option doesnt become more>50% for each respective option"
      ],
      "metadata": {
        "id": "DEFPk_oPb7Cz"
      }
    },
    {
      "cell_type": "code",
      "source": [
        "columns_to_add_other = ['tag', 'level', 'company']\n",
        "# I select the 200 most common responses\n",
        "n = 250\n",
        "for column in columns_to_add_other:\n",
        "  most_common = df[column].value_counts()[:n].index.tolist()\n",
        "  # And replace all values not in that 150 with 'Other'\n",
        "  df.loc[~df[column].isin(most_common), column] = \"Other\""
      ],
      "metadata": {
        "id": "v_NRpyf86N_G"
      },
      "execution_count": 235,
      "outputs": []
    },
    {
      "cell_type": "code",
      "source": [
        "most_common_levels_including_other = df['level'].value_counts()[:n].index.tolist()\n",
        "# get count of occurences for each value in top 150 \n",
        "levels_d = {}\n",
        "for value in most_common_levels_including_other:\n",
        "    levels_d[value] = df['level'].value_counts()[value]\n",
        "levels_d"
      ],
      "metadata": {
        "id": "67dyDe6-V5xx",
        "colab": {
          "base_uri": "https://localhost:8080/"
        },
        "outputId": "4fef9e1f-f48a-45c7-cd19-176981fd6ba9"
      },
      "execution_count": 236,
      "outputs": [
        {
          "output_type": "execute_result",
          "data": {
            "text/plain": [
              "{'Other': 6616,\n",
              " 'L4': 4689,\n",
              " 'L5': 4498,\n",
              " 'L3': 3163,\n",
              " 'L6': 2490,\n",
              " 'Senior Software Engineer': 1262,\n",
              " 'L2': 1101,\n",
              " 'Senior': 917,\n",
              " 'L1': 722,\n",
              " '62': 711,\n",
              " '63': 693,\n",
              " 'ICT4': 690,\n",
              " 'E5': 681,\n",
              " 'Software Engineer': 671,\n",
              " '61': 656,\n",
              " 'L7': 649,\n",
              " 'IC3': 619,\n",
              " 'IC4': 618,\n",
              " 'ICT3': 591,\n",
              " 'E4': 587,\n",
              " '60': 556,\n",
              " '64': 553,\n",
              " 'SDE II': 512,\n",
              " 'Associate': 505,\n",
              " '59': 499,\n",
              " 'IC5': 455,\n",
              " 'SDE I': 418,\n",
              " 'Analyst': 398,\n",
              " 'E3': 373,\n",
              " 'Senior MTS': 370,\n",
              " 'Senior Engineer': 360,\n",
              " '65': 356,\n",
              " 'Manager': 356,\n",
              " 'P3': 343,\n",
              " 'P4': 338,\n",
              " 'IC2': 335,\n",
              " 'Staff Software Engineer': 328,\n",
              " 'Staff Engineer': 293,\n",
              " 'Director': 291,\n",
              " 'Senior Associate': 276,\n",
              " 'Grade 8': 274,\n",
              " 'Grade 6': 260,\n",
              " 'Vice President': 240,\n",
              " 'Software Engineer II': 240,\n",
              " 'L6 SDM': 225,\n",
              " '2': 212,\n",
              " 'P2': 210,\n",
              " 'Software Engineer 2': 209,\n",
              " 'Consultant': 204,\n",
              " 'Grade 7': 202,\n",
              " '66': 199,\n",
              " '4': 198,\n",
              " 'E6': 197,\n",
              " 'IC-3': 197,\n",
              " 'Senior Manager': 197,\n",
              " 'Senior Consultant': 195,\n",
              " '1': 192,\n",
              " 'L8': 185,\n",
              " 'IC-2': 185,\n",
              " 'Grade 10': 183,\n",
              " '5': 181,\n",
              " 'T4': 180,\n",
              " '6': 180,\n",
              " 'M1': 177,\n",
              " 'T3': 176,\n",
              " 'Senior SWE': 176,\n",
              " 'Engineer': 166,\n",
              " 'Band 7': 166,\n",
              " '7': 165,\n",
              " 'P5': 161,\n",
              " 'ICT5': 159,\n",
              " 'Staff': 158,\n",
              " 'IC-4': 157,\n",
              " 'Lead MTS': 156,\n",
              " '3': 156,\n",
              " 'IC6': 147,\n",
              " 'M3': 147,\n",
              " 'Principal Engineer': 139,\n",
              " 'ICT2': 138,\n",
              " 'MTS': 135,\n",
              " 'T5': 134,\n",
              " 'M2': 130,\n",
              " 'T2': 127,\n",
              " 'Principal MTS': 126,\n",
              " 'L5A': 125,\n",
              " 'Software Engineer 1': 122,\n",
              " '9': 119,\n",
              " 'Software Engineer 3': 115,\n",
              " 'SWE II': 113,\n",
              " 'Software Engineer I': 113,\n",
              " 'Associate Software Eng': 110,\n",
              " 'Grade 9': 109,\n",
              " 'MTS 3': 105,\n",
              " 'Band 8': 102,\n",
              " 'Principal': 102,\n",
              " '67': 100,\n",
              " 'IC1': 100,\n",
              " 'M4': 100,\n",
              " 'Principal Associate': 98,\n",
              " '8': 95,\n",
              " 'Senior Product Manager': 93,\n",
              " 'MTS 2': 92,\n",
              " 'M': 90,\n",
              " 'Grade 11': 90,\n",
              " 'T24': 88,\n",
              " 'Grade 5': 87,\n",
              " 'L9': 86,\n",
              " 'Senior Staff Engineer': 86,\n",
              " 'SDE III': 86,\n",
              " 'Grade 12': 85,\n",
              " 'Principal Software Engineer': 85,\n",
              " 'Senior SDE': 85,\n",
              " 'Band 6': 83,\n",
              " 'New Grad': 83,\n",
              " 'Staff SWE': 80,\n",
              " 'SE 3': 79,\n",
              " 'SDE 2': 79,\n",
              " 'Lead': 78,\n",
              " 'L': 73,\n",
              " 'Staff Engineer 1': 72,\n",
              " 'VP': 72,\n",
              " 'Senior Director': 71,\n",
              " 'Software Engineer 4': 70,\n",
              " 'SDE': 69,\n",
              " 'MTS 1': 67,\n",
              " 'Entry': 66,\n",
              " '2-1': 66,\n",
              " 'Software Engineer (SWE)': 63,\n",
              " 'Junior': 63,\n",
              " 'Band 9': 62,\n",
              " 'Software Engineer III': 61,\n",
              " 'L5B': 60,\n",
              " 'IC-5': 60,\n",
              " '602': 59,\n",
              " '601': 59,\n",
              " 'T25': 59,\n",
              " 'E2': 59,\n",
              " 'Associate Software Engineer': 58,\n",
              " '10': 58,\n",
              " 'M5': 58,\n",
              " 'l4': 57,\n",
              " 'l3': 57,\n",
              " 'Product Manager': 57,\n",
              " 'Associate Engineer': 57,\n",
              " 'Lead Software Engineer': 56,\n",
              " '603': 56,\n",
              " 'Manager (L6)': 56,\n",
              " 'SDE 3': 56,\n",
              " 'L5 Product Manager': 55,\n",
              " 'Software Developer': 54,\n",
              " 'T6': 53,\n",
              " 'E7': 52,\n",
              " 'P1': 52,\n",
              " 'Entry Level': 51,\n",
              " 'T26': 50,\n",
              " 'Level 5': 49,\n",
              " '11': 49,\n",
              " 'E1': 49,\n",
              " 'L60': 49,\n",
              " 'K': 48,\n",
              " 'T23': 48,\n",
              " 'SE 2': 47,\n",
              " 'F': 46,\n",
              " 'Software Eng': 44,\n",
              " 'SDE 1': 44,\n",
              " 'Senior Software Engineer II': 43,\n",
              " 'P6': 43,\n",
              " 'II': 42,\n",
              " '2-2': 42,\n",
              " 'Mid': 41,\n",
              " 'G16': 41,\n",
              " 'T1': 41,\n",
              " '26': 40,\n",
              " 'Engineer II': 40,\n",
              " 'Associate MTS': 40,\n",
              " 'L61': 40,\n",
              " 'G4': 39,\n",
              " 'Technical Leader 1': 39,\n",
              " 'Software Engineer IV': 39,\n",
              " 'C6': 39,\n",
              " 'SE2': 38,\n",
              " 'SMTS': 38,\n",
              " 'MTS4': 38,\n",
              " 'Grade 4': 37,\n",
              " 'Executive Director / Vice-President': 37,\n",
              " 'Architect': 37,\n",
              " 'Senior Software Eng': 37,\n",
              " 'Engineering Manager': 36,\n",
              " 'l5': 36,\n",
              " '5a': 35,\n",
              " 'C7': 35,\n",
              " 'L10': 34,\n",
              " 'Master Software Eng': 34,\n",
              " 'SDE 4': 33,\n",
              " '1-2': 33,\n",
              " '502': 32,\n",
              " 'Member of Technical Staff': 32,\n",
              " '12': 32,\n",
              " 'Forward Deployed Engineer': 31,\n",
              " 'MTS3': 31,\n",
              " 'L5 SDM': 31,\n",
              " 'L63': 31,\n",
              " 'Engineer 2': 31,\n",
              " 'Executive Director': 31,\n",
              " 'G17': 30,\n",
              " 'Associate Senior Software Engineer': 30,\n",
              " 'AVP': 30,\n",
              " 'G10': 30,\n",
              " 'L62': 30,\n",
              " 'Senior PM': 30,\n",
              " 'ICB 5': 30,\n",
              " 'Band 10': 30,\n",
              " 'Senior Software Developer': 30,\n",
              " 'senior': 29,\n",
              " 'L6 Product Manager': 29,\n",
              " 'Staff Engineer 2': 29,\n",
              " 'Senior ': 29,\n",
              " 'L11': 28,\n",
              " 'SE3': 28,\n",
              " 'Senior Software Engineer I': 28,\n",
              " 'Senior Staff Software Engineer': 28,\n",
              " 'SDE2': 27,\n",
              " 'L59': 27,\n",
              " 'Member of Technical Staff 1': 27,\n",
              " 'Senior Analyst': 27,\n",
              " 'SWE 2': 27,\n",
              " 'IC-1': 27,\n",
              " 'Engineer 1': 27,\n",
              " 'G': 26,\n",
              " 'Level 6': 26,\n",
              " 'Expert': 25,\n",
              " 'SE1': 25,\n",
              " 'L64': 25,\n",
              " 'T27': 25,\n",
              " 'Grade 3': 25,\n",
              " 'G15': 25,\n",
              " 'Senior Data Scientist': 25,\n",
              " 'Associate Member of Technical Staff': 25,\n",
              " 'Software Engineer 5': 25,\n",
              " 'Engineer 3': 24,\n",
              " 'MTS IV': 24,\n",
              " 'Grade 13': 24,\n",
              " '5b': 24,\n",
              " 'MTS2': 24,\n",
              " 'Level 4': 23,\n",
              " '28': 23,\n",
              " '24': 23,\n",
              " 'PM 2': 23,\n",
              " 'l2': 23,\n",
              " 'G5': 22}"
            ]
          },
          "metadata": {},
          "execution_count": 236
        }
      ]
    },
    {
      "cell_type": "code",
      "source": [
        "most_common_company_including_other = df['company'].value_counts()[:n].index.tolist()\n",
        "\n",
        "# get count of occurences for each value in top 150 \n",
        "compnay_d = {}\n",
        "for value in most_common_company_including_other:\n",
        "    compnay_d[value] = df['company'].value_counts()[value]\n",
        "compnay_d"
      ],
      "metadata": {
        "id": "VeBfTIfNagni",
        "colab": {
          "base_uri": "https://localhost:8080/"
        },
        "outputId": "4853d877-362d-496c-f973-823ea8ccc81c"
      },
      "execution_count": 237,
      "outputs": [
        {
          "output_type": "execute_result",
          "data": {
            "text/plain": [
              "{'Other': 8649,\n",
              " 'Amazon': 6965,\n",
              " 'Microsoft': 4678,\n",
              " 'Google': 3901,\n",
              " 'Facebook': 2639,\n",
              " 'Apple': 1845,\n",
              " 'Oracle': 1004,\n",
              " 'Salesforce': 960,\n",
              " 'Intel': 879,\n",
              " 'Cisco': 825,\n",
              " 'IBM': 810,\n",
              " 'Uber': 766,\n",
              " 'Capital One': 736,\n",
              " 'LinkedIn': 611,\n",
              " 'VMware': 610,\n",
              " 'Qualcomm': 522,\n",
              " 'Bloomberg': 513,\n",
              " 'JPMorgan Chase': 509,\n",
              " 'Goldman Sachs': 443,\n",
              " 'Intuit': 412,\n",
              " 'PayPal': 395,\n",
              " 'Deloitte': 376,\n",
              " 'Twitter': 364,\n",
              " 'Walmart Labs': 357,\n",
              " 'Adobe': 352,\n",
              " 'Expedia': 338,\n",
              " 'Nvidia': 336,\n",
              " 'Wayfair': 319,\n",
              " 'Accenture': 313,\n",
              " 'eBay': 303,\n",
              " 'SAP': 293,\n",
              " 'Lyft': 285,\n",
              " 'Workday': 241,\n",
              " 'Shopify': 226,\n",
              " 'Dropbox': 216,\n",
              " 'Dell Technologies': 204,\n",
              " 'Visa': 202,\n",
              " 'Atlassian': 201,\n",
              " 'Airbnb': 194,\n",
              " 'Yelp': 186,\n",
              " 'ServiceNow': 175,\n",
              " 'Tesla': 168,\n",
              " 'Yahoo': 168,\n",
              " 'Snap': 162,\n",
              " 'Square': 162,\n",
              " 'ByteDance': 159,\n",
              " 'Indeed': 158,\n",
              " 'Stripe': 157,\n",
              " 'Zillow': 155,\n",
              " 'Splunk': 148,\n",
              " 'Comcast': 147,\n",
              " 'Nutanix': 132,\n",
              " 'T-Mobile': 131,\n",
              " 'Netflix': 130,\n",
              " 'Broadcom': 128,\n",
              " 'General Motors': 128,\n",
              " 'Spotify': 127,\n",
              " 'Boeing': 126,\n",
              " 'Yandex': 126,\n",
              " 'American Express': 124,\n",
              " 'Autodesk': 122,\n",
              " 'Morgan Stanley': 121,\n",
              " 'Walmart': 119,\n",
              " 'GoDaddy': 118,\n",
              " 'AMD': 117,\n",
              " 'EPAM Systems': 116,\n",
              " 'Ernst and Young': 116,\n",
              " 'DoorDash': 115,\n",
              " 'Lockheed Martin': 114,\n",
              " 'Qualtrics': 111,\n",
              " 'Cruise': 110,\n",
              " 'Booking.com': 108,\n",
              " 'Twilio': 107,\n",
              " 'Pinterest': 106,\n",
              " 'Box': 101,\n",
              " 'Instacart': 99,\n",
              " 'Samsung': 98,\n",
              " 'Northrop Grumman': 96,\n",
              " 'PwC': 94,\n",
              " 'Coinbase': 92,\n",
              " 'Disney': 92,\n",
              " 'Cerner': 92,\n",
              " 'Citi': 91,\n",
              " 'Arm': 91,\n",
              " 'Zalando': 90,\n",
              " 'USAA': 88,\n",
              " 'Flipkart': 88,\n",
              " 'Booz Allen Hamilton': 87,\n",
              " 'Target': 85,\n",
              " 'Epic Systems': 84,\n",
              " 'Slalom': 82,\n",
              " 'Verizon': 81,\n",
              " 'Palo Alto Networks': 79,\n",
              " 'WeWork': 78,\n",
              " 'NetApp': 78,\n",
              " 'Robinhood': 77,\n",
              " 'HubSpot': 77,\n",
              " 'Compass': 76,\n",
              " 'DocuSign': 76,\n",
              " 'Mastercard': 75,\n",
              " 'Red Hat': 74,\n",
              " 'McKinsey': 73,\n",
              " 'Nike': 72,\n",
              " 'KPMG': 71,\n",
              " 'Grab': 71,\n",
              " 'AT&T': 70,\n",
              " 'Groupon': 70,\n",
              " 'Nordstrom': 69,\n",
              " 'Citrix Systems Inc': 68,\n",
              " 'Amazon ': 67,\n",
              " 'Electronic Arts': 66,\n",
              " 'HPE': 66,\n",
              " 'Synopsys': 66,\n",
              " 'Two Sigma': 66,\n",
              " 'Tableau Software': 65,\n",
              " 'Cognizant': 64,\n",
              " 'Slack': 64,\n",
              " 'Zendesk': 63,\n",
              " 'Rubrik': 63,\n",
              " 'Rally Health': 63,\n",
              " 'Palantir': 62,\n",
              " 'Barclays': 62,\n",
              " 'Okta': 62,\n",
              " 'Raytheon': 61,\n",
              " 'Wells Fargo': 60,\n",
              " 'GitHub': 60,\n",
              " 'BlackRock': 59,\n",
              " 'Etsy': 58,\n",
              " 'Roblox': 55,\n",
              " 'Capgemini': 55,\n",
              " 'Bank of America': 55,\n",
              " 'MathWorks': 53,\n",
              " 'Tata Consultancy Services': 53,\n",
              " 'Hulu': 53,\n",
              " 'amazon': 53,\n",
              " 'Microsoft ': 53,\n",
              " 'Juniper Networks': 52,\n",
              " 'Blizzard Entertainment': 52,\n",
              " 'Charles Schwab': 51,\n",
              " 'Bank of America Merrill Lynch': 51,\n",
              " 'Waymo': 50,\n",
              " 'Roku': 49,\n",
              " 'SquareSpace': 49,\n",
              " 'Grubhub': 48,\n",
              " 'Datadog': 47,\n",
              " 'MediaTek': 47,\n",
              " 'Infosys': 47,\n",
              " 'Zoox': 46,\n",
              " 'Xilinx': 44,\n",
              " 'The Home Depot': 44,\n",
              " 'Symantec': 44,\n",
              " 'SoFi': 44,\n",
              " 'The New York Times Company': 44,\n",
              " 'Fidelity Investments': 44,\n",
              " 'Optum': 44,\n",
              " 'Wish': 43,\n",
              " 'Nokia': 43,\n",
              " 'Micron Technology': 42,\n",
              " 'Audible': 42,\n",
              " 'Unity Technologies': 42,\n",
              " 'Shopee': 42,\n",
              " 'ADP': 42,\n",
              " 'Cloudera': 42,\n",
              " 'Redfin': 41,\n",
              " 'Publicis Sapient': 41,\n",
              " 'F5 Networks': 41,\n",
              " 'Blue Origin': 41,\n",
              " 'Akamai': 40,\n",
              " 'Samsara': 40,\n",
              " 'Flexport': 40,\n",
              " 'Credit Karma': 40,\n",
              " 'Rivian': 40,\n",
              " 'State Farm': 40,\n",
              " 'BCG': 40,\n",
              " 'Western Digital': 39,\n",
              " 'Argo AI': 39,\n",
              " 'Chewy': 38,\n",
              " 'Citadel': 38,\n",
              " 'ExxonMobil': 38,\n",
              " 'Cadence Design Systems': 38,\n",
              " 'Mozilla': 38,\n",
              " 'Affirm': 38,\n",
              " 'Klarna': 37,\n",
              " 'Texas Instruments': 37,\n",
              " 'AWS': 37,\n",
              " 'EY': 37,\n",
              " 'Deutsche Bank': 37,\n",
              " 'Marvell': 37,\n",
              " 'ThoughtWorks': 37,\n",
              " 'UBS': 36,\n",
              " 'GE Digital': 36,\n",
              " 'Pivotal': 36,\n",
              " 'BNY Mellon': 36,\n",
              " 'Pure Storage': 36,\n",
              " 'Vanguard': 36,\n",
              " 'MongoDB': 36,\n",
              " 'Convoy': 36,\n",
              " 'Ericsson': 35,\n",
              " 'Reddit': 35,\n",
              " 'Delivery Hero': 35,\n",
              " 'Siemens': 34,\n",
              " 'ASML': 34,\n",
              " 'Rakuten': 34,\n",
              " 'Bain': 34,\n",
              " 'Twitch': 33,\n",
              " 'Honeywell': 33,\n",
              " 'Plaid': 33,\n",
              " 'NVIDIA': 33,\n",
              " 'FactSet': 33,\n",
              " 'Ford Motor': 33,\n",
              " 'L3Harris Technologies': 32,\n",
              " 'Riot Games': 32,\n",
              " 'Chevron': 30,\n",
              " 'Skyscanner': 30,\n",
              " 'Asurion': 30,\n",
              " 'Pandora': 30,\n",
              " 'Informatica': 30,\n",
              " 'Asana': 29,\n",
              " 'Applied Materials': 29,\n",
              " 'Cloudflare': 29,\n",
              " 'Alibaba': 29,\n",
              " 'Nextdoor': 29,\n",
              " 'Ancestry': 29,\n",
              " 'Cox Automotive': 29,\n",
              " 'Linkedin': 29,\n",
              " 'Gusto': 28,\n",
              " 'SAP Concur': 28,\n",
              " 'Databricks': 28,\n",
              " 'Smartsheet': 28,\n",
              " 'Trend Micro': 28,\n",
              " 'SurveyMonkey': 28,\n",
              " 'Liberty Mutual': 28,\n",
              " 'New Relic': 28,\n",
              " 'google': 28,\n",
              " 'Carta': 28,\n",
              " 'RBC': 27,\n",
              " 'Stitch Fix': 27,\n",
              " 'Pluralsight': 27,\n",
              " 'Verily Life Sciences': 26,\n",
              " 'Glassdoor': 26,\n",
              " 'Arista Networks': 26,\n",
              " 'TripAdvisor': 26,\n",
              " 'Facebook ': 26,\n",
              " 'Garmin': 26,\n",
              " 'Medtronic': 26,\n",
              " 'NCR': 26,\n",
              " 'Avanade': 25,\n",
              " 'Coupang': 25,\n",
              " 'Fortinet': 25,\n",
              " 'Lam Research': 25}"
            ]
          },
          "metadata": {},
          "execution_count": 237
        }
      ]
    },
    {
      "cell_type": "code",
      "source": [
        "most_common_tag_including_other = df['tag'].value_counts()[:n].index.tolist()\n",
        "\n",
        "# get count of occurences for each value in top 150\n",
        "tag_d = {}\n",
        "for value in most_common_tag_including_other:\n",
        "    tag_d[value] = df['tag'].value_counts()[value]\n",
        "tag_d"
      ],
      "metadata": {
        "id": "TryYMGe1apxM",
        "colab": {
          "base_uri": "https://localhost:8080/"
        },
        "outputId": "8ed01845-b97d-46fe-9f9c-d3abd2c5a181"
      },
      "execution_count": 238,
      "outputs": [
        {
          "output_type": "execute_result",
          "data": {
            "text/plain": [
              "{'Full Stack': 10500,\n",
              " 'Distributed Systems (Back-End)': 9836,\n",
              " 'API Development (Back-End)': 5804,\n",
              " 'Other': 4024,\n",
              " 'ML / AI': 3753,\n",
              " 'Web Development (Front-End)': 2719,\n",
              " 'Product': 1701,\n",
              " 'Data': 1528,\n",
              " 'DevOps': 1438,\n",
              " 'Security': 1088,\n",
              " 'Networking': 1081,\n",
              " 'iOS': 1048,\n",
              " 'Android': 867,\n",
              " 'Mobile (iOS + Android)': 821,\n",
              " 'Technical': 764,\n",
              " 'Testing (SDET)': 740,\n",
              " 'Site Reliability (SRE)': 721,\n",
              " 'User Experience (UX)': 671,\n",
              " 'General': 660,\n",
              " 'Production': 491,\n",
              " 'Operations': 320,\n",
              " 'Enterprise': 305,\n",
              " 'Consumer': 268,\n",
              " 'ASIC Design': 263,\n",
              " 'Analytic': 202,\n",
              " 'Hardware': 183,\n",
              " 'Cloud': 182,\n",
              " 'Verification': 181,\n",
              " 'SoC Design': 176,\n",
              " 'Embedded': 163,\n",
              " 'Sales': 158,\n",
              " 'Growth': 151,\n",
              " 'Analytics': 133,\n",
              " 'Analog': 131,\n",
              " 'Embedded Systems': 131,\n",
              " 'Validation': 114,\n",
              " 'Design': 110,\n",
              " 'Infrastructure': 97,\n",
              " 'Firmware': 78,\n",
              " 'Marketing': 74,\n",
              " 'Strategy': 70,\n",
              " 'Interaction Design': 66,\n",
              " 'Internal': 66,\n",
              " 'AWS': 61,\n",
              " 'Machine Learning': 52,\n",
              " 'Finance': 51,\n",
              " 'Consulting': 51,\n",
              " 'Data Science': 51,\n",
              " 'Azure': 50,\n",
              " 'UX': 48,\n",
              " 'Backend': 48,\n",
              " 'HR': 48,\n",
              " 'ASIC': 46,\n",
              " 'ML': 45,\n",
              " 'Generalist': 41,\n",
              " 'User Research': 40,\n",
              " 'Systems': 40,\n",
              " 'Research': 40,\n",
              " 'ML/AI': 39,\n",
              " 'Product Design': 37,\n",
              " 'Salesforce': 36,\n",
              " 'Product Management': 35,\n",
              " 'general': 34,\n",
              " 'FPGA Design': 30,\n",
              " 'Robotics': 30,\n",
              " 'Imaging': 30,\n",
              " 'PM': 29,\n",
              " 'Data Engineering': 28,\n",
              " 'OS': 28,\n",
              " 'New Grad': 28,\n",
              " 'Ads': 28,\n",
              " 'User Journey': 27,\n",
              " 'Software': 26,\n",
              " 'HW': 26,\n",
              " 'Data Engineer': 24,\n",
              " 'Engineering': 23,\n",
              " 'General ': 23,\n",
              " 'User Interfaces': 23,\n",
              " 'Supply Chain': 23,\n",
              " 'Program Management': 22,\n",
              " 'Infra': 22,\n",
              " 'Operating Systems': 22,\n",
              " 'SAP': 22,\n",
              " 'Recruiting': 21,\n",
              " 'Product Marketing': 21,\n",
              " 'Retail': 20,\n",
              " 'other': 20,\n",
              " 'Manufacturing': 20,\n",
              " 'Platform': 20,\n",
              " 'AI': 19,\n",
              " 'EDA': 19,\n",
              " 'Self Driving': 19,\n",
              " 'TPM': 19,\n",
              " 'Graphics': 19,\n",
              " 'Business': 19,\n",
              " 'ERP': 19,\n",
              " 'Web and Mobile': 19,\n",
              " 'hardware': 18,\n",
              " 'Digital': 18,\n",
              " 'Embedded Software': 18,\n",
              " 'AI/ML': 18,\n",
              " 'Mobile': 17,\n",
              " 'Design Verification': 17,\n",
              " 'Technology': 17,\n",
              " 'Mechanical': 17,\n",
              " 'Embedded System': 16,\n",
              " 'Architecture': 16,\n",
              " 'Performance': 16,\n",
              " 'IT': 16,\n",
              " 'Desktop': 16,\n",
              " 'Devices': 16,\n",
              " 'embedded': 15,\n",
              " 'Web': 15,\n",
              " 'None': 15,\n",
              " 'Data Scientist': 15,\n",
              " 'Tools': 15,\n",
              " 'System Software': 15,\n",
              " 'Wireless': 15,\n",
              " 'Marketing ': 15,\n",
              " 'Modem': 15,\n",
              " 'AR/VR': 15,\n",
              " 'Healthcare': 14,\n",
              " 'Aerospace': 14,\n",
              " 'C++': 14,\n",
              " 'Alexa': 13,\n",
              " 'product': 13,\n",
              " 'ASIC HW': 13,\n",
              " 'Quality Assurance': 13,\n",
              " 'SRE': 13,\n",
              " 'Management': 13,\n",
              " 'Process': 13,\n",
              " 'Physical Design': 13,\n",
              " 'NLP': 12,\n",
              " 'sales': 12,\n",
              " 'Business Intelligence': 12,\n",
              " 'Data Analytics': 12,\n",
              " 'Tech': 12,\n",
              " 'R&D': 12,\n",
              " 'firmware': 12,\n",
              " 'UX Design': 12,\n",
              " 'Hardware ': 12,\n",
              " 'Product Analytics': 12,\n",
              " 'System': 12,\n",
              " 'Automation': 12,\n",
              " 'Gaming': 12,\n",
              " 'Program Manager': 11,\n",
              " 'Payments': 11,\n",
              " 'Games': 11,\n",
              " 'Strategy ': 11,\n",
              " 'Windows': 11,\n",
              " 'IoT': 11,\n",
              " 'Architect': 11,\n",
              " 'Compilers': 11,\n",
              " 'Privacy': 11,\n",
              " 'data': 11,\n",
              " 'Consultant': 11,\n",
              " 'Manager': 10,\n",
              " 'Risk': 10,\n",
              " 'Project Management': 10,\n",
              " 'none': 10,\n",
              " 'Mechanical Engineer': 10,\n",
              " 'Compensation': 10,\n",
              " 'Consulting ': 10,\n",
              " 'DS': 10,\n",
              " 'Database': 10,\n",
              " 'Storage': 10,\n",
              " 'Advertising': 10,\n",
              " 'Camera': 10,\n",
              " 'Data science': 10,\n",
              " 'Product management': 10,\n",
              " 'Human Resources': 10,\n",
              " 'Big Data': 10,\n",
              " 'data science': 10,\n",
              " 'Game Development': 10,\n",
              " 'M&A': 9,\n",
              " 'Ops': 9,\n",
              " 'QA': 9,\n",
              " 'Compliance': 9,\n",
              " 'Machine learning': 9,\n",
              " 'Cybersecurity': 9,\n",
              " 'Quant': 9,\n",
              " 'Analyst': 9,\n",
              " 'OCI': 9,\n",
              " 'Leadership': 9,\n",
              " 'Embedded ': 9,\n",
              " 'Sales Operations': 9,\n",
              " 'All': 9,\n",
              " 'Simulation': 9,\n",
              " 'Product ': 9,\n",
              " 'Analytics ': 9,\n",
              " 'Search': 9,\n",
              " 'design': 8,\n",
              " 'Applications': 8,\n",
              " 'Recruiter': 8,\n",
              " 'Computer Architecture': 8,\n",
              " 'University': 8,\n",
              " 'Unknown': 8,\n",
              " 'analytics': 8,\n",
              " 'Kernel': 8,\n",
              " 'cloud': 8,\n",
              " 'marketing': 8,\n",
              " 'Product Development': 8,\n",
              " 'HPC': 8,\n",
              " 'Business Development': 8,\n",
              " 'HRBP': 8,\n",
              " 'CPU': 8,\n",
              " 'Customer Success': 8,\n",
              " 'Developer Tools': 7,\n",
              " 'Services': 7,\n",
              " 'Linux': 7,\n",
              " 'Digital Marketing': 7,\n",
              " 'Reliability': 7,\n",
              " 'Rotational Program': 7,\n",
              " 'modem': 7,\n",
              " 'Mechanical Engineering': 7,\n",
              " 'Security ': 7,\n",
              " 'Firmware Engineer': 7,\n",
              " 'Data Analyst': 7,\n",
              " 'Semiconductor': 7,\n",
              " 'SaaS': 7,\n",
              " 'Software Development': 7,\n",
              " 'software': 7,\n",
              " 'Financial Services': 7,\n",
              " 'VR': 7,\n",
              " 'RF': 7,\n",
              " 'Operating System': 7,\n",
              " 'SoC': 7,\n",
              " 'Quality': 7,\n",
              " 'FPGA': 7,\n",
              " 'GPU': 7,\n",
              " 'Technology Consulting': 7,\n",
              " 'Compiler': 7,\n",
              " 'machine learning': 7,\n",
              " 'Product Analyst': 6,\n",
              " 'Hardware Engineering': 6,\n",
              " '5G': 6,\n",
              " 'Modeling': 6,\n",
              " 'Machine Learning ': 6,\n",
              " 'Professional Services': 6,\n",
              " 'Computer Vision': 6,\n",
              " 'Server': 6,\n",
              " 'Program Management ': 6,\n",
              " 'Agile': 6,\n",
              " 'Creative': 6,\n",
              " 'Packaging': 6,\n",
              " 'Business Operations': 6,\n",
              " 'Embedded systems': 6,\n",
              " 'Product analytics': 6,\n",
              " 'Cloud Infrastructure': 6,\n",
              " 'Software Engineer': 6}"
            ]
          },
          "metadata": {},
          "execution_count": 238
        }
      ]
    },
    {
      "cell_type": "code",
      "source": [
        "df.reset_index(drop=True, inplace=True)\n",
        "d = {}\n",
        "for column in df.columns:\n",
        "    d[column] = (df[column].unique()).size    \n",
        "d\n"
      ],
      "metadata": {
        "colab": {
          "base_uri": "https://localhost:8080/"
        },
        "id": "PrYKAeOWayHA",
        "outputId": "27a32093-620f-4397-a19e-5224d56b6c7d"
      },
      "execution_count": 239,
      "outputs": [
        {
          "output_type": "execute_result",
          "data": {
            "text/plain": [
              "{'company': 251,\n",
              " 'level': 251,\n",
              " 'title': 15,\n",
              " 'totalyearlycompensation': 865,\n",
              " 'location': 1017,\n",
              " 'yearsofexperience': 56,\n",
              " 'yearsatcompany': 41,\n",
              " 'tag': 250,\n",
              " 'gender': 4}"
            ]
          },
          "metadata": {},
          "execution_count": 239
        }
      ]
    },
    {
      "cell_type": "markdown",
      "source": [
        "## Now onto location\n",
        "- so for this ill do some regex to grab everything after the last comma and just use that. "
      ],
      "metadata": {
        "id": "68iRAzqccvWy"
      }
    },
    {
      "cell_type": "code",
      "source": [
        "df['location'] = df['location'].str.extract(r'.*,\\s*(?:\\d+\\s*)?([^\\d,]+?)(?:\\s*\\d+)?$', expand=False)\n"
      ],
      "metadata": {
        "id": "3oUip8tTz0ks"
      },
      "execution_count": 240,
      "outputs": []
    },
    {
      "cell_type": "code",
      "source": [
        "df['location'].unique()\n"
      ],
      "metadata": {
        "colab": {
          "base_uri": "https://localhost:8080/"
        },
        "id": "D72lavOI42Fe",
        "outputId": "ea56f56b-f380-4067-c79a-b452e01b3577"
      },
      "execution_count": 241,
      "outputs": [
        {
          "output_type": "execute_result",
          "data": {
            "text/plain": [
              "array(['WA', 'CA', 'TX', 'NY', 'India', 'IL', 'Germany', 'Canada', 'OR',\n",
              "       'AZ', 'WI', 'Singapore', 'NC', 'Hungary', 'VA', 'United Kingdom',\n",
              "       'MA', 'SC', 'AR', 'South', 'Russia', 'PA', 'NJ', 'DC', 'MN', 'LA',\n",
              "       'Australia', 'GA', 'IN', 'Ireland', 'Switzerland', 'CO',\n",
              "       'Luxembourg', 'MI', 'DE', 'NM', 'TN', 'KS', 'NH', 'FL', 'ID', 'OH',\n",
              "       'Thailand', 'Ukraine', 'Indonesia', 'Taiwan', 'Czech Republic',\n",
              "       'NE', 'Israel', 'Japan', 'China', 'NV', 'CT', 'UT', 'MO',\n",
              "       'Romania', 'France', 'Netherlands', 'Spain', 'IA', 'Denmark', 'RI',\n",
              "       'ME', 'MD', 'Italy', 'United Arab Emirates', 'Estonia', 'Poland',\n",
              "       'Hong Kong (SAR)', 'United States', 'Brazil', 'Yugoslavia',\n",
              "       'Qatar', 'Norway', 'KY', 'Sweden', 'WV', 'AL', 'Argentina', 'MT',\n",
              "       'OK', 'Mexico', 'Peru', 'Bulgaria', 'Belgium', 'New Zealand',\n",
              "       'Jordan', 'Finland', 'Serbia', 'South Africa', 'Colombia', 'VT',\n",
              "       'Chile', 'Turkey', 'Portugal', 'ND', 'Slovakia', 'Malaysia',\n",
              "       'Latvia', 'Saudi Arabia', 'HI', 'Puerto Rico', 'Belarus',\n",
              "       'Austria', 'Marshall Islands', 'Kazakhstan', 'Ghana',\n",
              "       'Netherlands Antilles', 'Costa Rica', 'MS', 'Nigeria', 'Lithuania',\n",
              "       'Kenya', 'Trinidad and Tobago', 'WY', 'Vietnam', 'Uruguay',\n",
              "       'Moldova', 'Philippines', 'Morocco', 'Panama', 'Iraq'],\n",
              "      dtype=object)"
            ]
          },
          "metadata": {},
          "execution_count": 241
        }
      ]
    },
    {
      "cell_type": "markdown",
      "source": [
        "## Seems good enough. Im fine with american states being included as 2 letter symbols as they seem to be consisitantly across the board"
      ],
      "metadata": {
        "id": "lTp1-TaT5t4L"
      }
    },
    {
      "cell_type": "markdown",
      "source": [
        "## Now we create our test set "
      ],
      "metadata": {
        "id": "D9cBe_eSfxeZ"
      }
    },
    {
      "cell_type": "code",
      "source": [
        "# Split off the test set: 20% of the dataset.\n",
        "dev_df, test_df = train_test_split(df, train_size=0.8, random_state=2)"
      ],
      "metadata": {
        "id": "0EuHESl1ft_q"
      },
      "execution_count": 242,
      "outputs": []
    },
    {
      "cell_type": "markdown",
      "source": [
        "## Data Exploration"
      ],
      "metadata": {
        "id": "BnXAoUFYgDhv"
      }
    },
    {
      "cell_type": "code",
      "source": [
        "# Now well create a copy to explore the data further \n",
        "copy_df = dev_df.copy()"
      ],
      "metadata": {
        "id": "l1LkNW6ZgAJX"
      },
      "execution_count": 243,
      "outputs": []
    },
    {
      "cell_type": "code",
      "source": [
        "m = scatter_matrix(copy_df, figsize=(15, 15))"
      ],
      "metadata": {
        "colab": {
          "base_uri": "https://localhost:8080/",
          "height": 887
        },
        "id": "6PmYYzrIgO9B",
        "outputId": "9832d5d0-6550-4198-c650-f979759ff5ab"
      },
      "execution_count": 244,
      "outputs": [
        {
          "output_type": "display_data",
          "data": {
            "text/plain": [
              "<Figure size 1080x1080 with 9 Axes>"
            ],
            "image/png": "[encoded data removed]"
          },
          "metadata": {
            "needs_background": "light"
          }
        }
      ]
    },
    {
      "cell_type": "code",
      "source": [
        "copy_df.corr()"
      ],
      "metadata": {
        "colab": {
          "base_uri": "https://localhost:8080/",
          "height": 142
        },
        "id": "o4dpOq_kgSVN",
        "outputId": "29c9eb74-03ca-49cc-b05b-621b0e2323f3"
      },
      "execution_count": 245,
      "outputs": [
        {
          "output_type": "execute_result",
          "data": {
            "text/plain": [
              "                         totalyearlycompensation  yearsofexperience  \\\n",
              "totalyearlycompensation                 1.000000           0.339960   \n",
              "yearsofexperience                       0.339960           1.000000   \n",
              "yearsatcompany                          0.133188           0.440309   \n",
              "\n",
              "                         yearsatcompany  \n",
              "totalyearlycompensation        0.133188  \n",
              "yearsofexperience              0.440309  \n",
              "yearsatcompany                 1.000000  "
            ],
            "text/html": [
              "\n",
              "  <div id=\"df-be95459a-3e6b-44c6-a316-141f1dca3a3a\">\n",
              "    <div class=\"colab-df-container\">\n",
              "      <div>\n",
              "<style scoped>\n",
              "    .dataframe tbody tr th:only-of-type {\n",
              "        vertical-align: middle;\n",
              "    }\n",
              "\n",
              "    .dataframe tbody tr th {\n",
              "        vertical-align: top;\n",
              "    }\n",
              "\n",
              "    .dataframe thead th {\n",
              "        text-align: right;\n",
              "    }\n",
              "</style>\n",
              "<table border=\"1\" class=\"dataframe\">\n",
              "  <thead>\n",
              "    <tr style=\"text-align: right;\">\n",
              "      <th></th>\n",
              "      <th>totalyearlycompensation</th>\n",
              "      <th>yearsofexperience</th>\n",
              "      <th>yearsatcompany</th>\n",
              "    </tr>\n",
              "  </thead>\n",
              "  <tbody>\n",
              "    <tr>\n",
              "      <th>totalyearlycompensation</th>\n",
              "      <td>1.000000</td>\n",
              "      <td>0.339960</td>\n",
              "      <td>0.133188</td>\n",
              "    </tr>\n",
              "    <tr>\n",
              "      <th>yearsofexperience</th>\n",
              "      <td>0.339960</td>\n",
              "      <td>1.000000</td>\n",
              "      <td>0.440309</td>\n",
              "    </tr>\n",
              "    <tr>\n",
              "      <th>yearsatcompany</th>\n",
              "      <td>0.133188</td>\n",
              "      <td>0.440309</td>\n",
              "      <td>1.000000</td>\n",
              "    </tr>\n",
              "  </tbody>\n",
              "</table>\n",
              "</div>\n",
              "      <button class=\"colab-df-convert\" onclick=\"convertToInteractive('df-be95459a-3e6b-44c6-a316-141f1dca3a3a')\"\n",
              "              title=\"Convert this dataframe to an interactive table.\"\n",
              "              style=\"display:none;\">\n",
              "        \n",
              "  <svg xmlns=\"http://www.w3.org/2000/svg\" height=\"24px\"viewBox=\"0 0 24 24\"\n",
              "       width=\"24px\">\n",
              "    <path d=\"M0 0h24v24H0V0z\" fill=\"none\"/>\n",
              "    <path d=\"M18.56 5.44l.94 2.06.94-2.06 2.06-.94-2.06-.94-.94-2.06-.94 2.06-2.06.94zm-11 1L8.5 8.5l.94-2.06 2.06-.94-2.06-.94L8.5 2.5l-.94 2.06-2.06.94zm10 10l.94 2.06.94-2.06 2.06-.94-2.06-.94-.94-2.06-.94 2.06-2.06.94z\"/><path d=\"M17.41 7.96l-1.37-1.37c-.4-.4-.92-.59-1.43-.59-.52 0-1.04.2-1.43.59L10.3 9.45l-7.72 7.72c-.78.78-.78 2.05 0 2.83L4 21.41c.39.39.9.59 1.41.59.51 0 1.02-.2 1.41-.59l7.78-7.78 2.81-2.81c.8-.78.8-2.07 0-2.86zM5.41 20L4 18.59l7.72-7.72 1.47 1.35L5.41 20z\"/>\n",
              "  </svg>\n",
              "      </button>\n",
              "      \n",
              "  <style>\n",
              "    .colab-df-container {\n",
              "      display:flex;\n",
              "      flex-wrap:wrap;\n",
              "      gap: 12px;\n",
              "    }\n",
              "\n",
              "    .colab-df-convert {\n",
              "      background-color: #E8F0FE;\n",
              "      border: none;\n",
              "      border-radius: 50%;\n",
              "      cursor: pointer;\n",
              "      display: none;\n",
              "      fill: #1967D2;\n",
              "      height: 32px;\n",
              "      padding: 0 0 0 0;\n",
              "      width: 32px;\n",
              "    }\n",
              "\n",
              "    .colab-df-convert:hover {\n",
              "      background-color: #E2EBFA;\n",
              "      box-shadow: 0px 1px 2px rgba(60, 64, 67, 0.3), 0px 1px 3px 1px rgba(60, 64, 67, 0.15);\n",
              "      fill: #174EA6;\n",
              "    }\n",
              "\n",
              "    [theme=dark] .colab-df-convert {\n",
              "      background-color: #3B4455;\n",
              "      fill: #D2E3FC;\n",
              "    }\n",
              "\n",
              "    [theme=dark] .colab-df-convert:hover {\n",
              "      background-color: #434B5C;\n",
              "      box-shadow: 0px 1px 3px 1px rgba(0, 0, 0, 0.15);\n",
              "      filter: drop-shadow(0px 1px 2px rgba(0, 0, 0, 0.3));\n",
              "      fill: #FFFFFF;\n",
              "    }\n",
              "  </style>\n",
              "\n",
              "      <script>\n",
              "        const buttonEl =\n",
              "          document.querySelector('#df-be95459a-3e6b-44c6-a316-141f1dca3a3a button.colab-df-convert');\n",
              "        buttonEl.style.display =\n",
              "          google.colab.kernel.accessAllowed ? 'block' : 'none';\n",
              "\n",
              "        async function convertToInteractive(key) {\n",
              "          const element = document.querySelector('#df-be95459a-3e6b-44c6-a316-141f1dca3a3a');\n",
              "          const dataTable =\n",
              "            await google.colab.kernel.invokeFunction('convertToInteractive',\n",
              "                                                     [key], {});\n",
              "          if (!dataTable) return;\n",
              "\n",
              "          const docLinkHtml = 'Like what you see? Visit the ' +\n",
              "            '<a target=\"_blank\" href=https://colab.research.google.com/notebooks/data_table.ipynb>data table notebook</a>'\n",
              "            + ' to learn more about interactive tables.';\n",
              "          element.innerHTML = '';\n",
              "          dataTable['output_type'] = 'display_data';\n",
              "          await google.colab.output.renderOutput(dataTable, element);\n",
              "          const docLink = document.createElement('div');\n",
              "          docLink.innerHTML = docLinkHtml;\n",
              "          element.appendChild(docLink);\n",
              "        }\n",
              "      </script>\n",
              "    </div>\n",
              "  </div>\n",
              "  "
            ]
          },
          "metadata": {},
          "execution_count": 245
        }
      ]
    },
    {
      "cell_type": "code",
      "source": [
        "plot = scatterplot(x=\"yearsofexperience\", y=\"totalyearlycompensation\", data=copy_df)"
      ],
      "metadata": {
        "colab": {
          "base_uri": "https://localhost:8080/",
          "height": 279
        },
        "id": "LUoxVPHzghme",
        "outputId": "185ded37-8da7-4d70-c426-4ff3d0d16e97"
      },
      "execution_count": 246,
      "outputs": [
        {
          "output_type": "display_data",
          "data": {
            "text/plain": [
              "<Figure size 432x288 with 1 Axes>"
            ],
            "image/png": "[encoded data removed]"
          },
          "metadata": {
            "needs_background": "light"
          }
        }
      ]
    },
    {
      "cell_type": "code",
      "source": [
        "heatmap(copy_df.corr(), annot=True)"
      ],
      "metadata": {
        "colab": {
          "base_uri": "https://localhost:8080/",
          "height": 400
        },
        "id": "Vk_9d6JYxlBV",
        "outputId": "bb6d7909-ca77-4f8b-c5c1-119e9d870fa7"
      },
      "execution_count": 247,
      "outputs": [
        {
          "output_type": "execute_result",
          "data": {
            "text/plain": [
              "<matplotlib.axes._subplots.AxesSubplot at 0x7fa08b03abd0>"
            ]
          },
          "metadata": {},
          "execution_count": 247
        },
        {
          "output_type": "display_data",
          "data": {
            "text/plain": [
              "<Figure size 432x288 with 2 Axes>"
            ],
            "image/png": "[encoded data removed]"
          },
          "metadata": {
            "needs_background": "light"
          }
        }
      ]
    },
    {
      "cell_type": "markdown",
      "source": [
        "## So with these plots we can see that years of experience and years at company is somewhat correlated to TYC while cityId isnt, which is what we'd expect"
      ],
      "metadata": {
        "id": "jztcchItyEhy"
      }
    },
    {
      "cell_type": "markdown",
      "source": [
        "## Lets try to engineer some features\n",
        "- Honestly nothing in particular sticks out as obvious to do here maybe something like proportion of career at current company, we can try that "
      ],
      "metadata": {
        "id": "fm2fcM2u0YF3"
      }
    },
    {
      "cell_type": "code",
      "source": [
        "copy_df[\"ratioatcurrentcompany\"] = copy_df[\"yearsofexperience\"] / (copy_df[\"yearsatcompany\"]) "
      ],
      "metadata": {
        "id": "QXn-6YAu0cKs"
      },
      "execution_count": 248,
      "outputs": []
    },
    {
      "cell_type": "markdown",
      "source": [
        "# Data Preprosessing"
      ],
      "metadata": {
        "id": "3OLuU-om7L0Z"
      }
    },
    {
      "cell_type": "code",
      "source": [
        "copy_df.columns"
      ],
      "metadata": {
        "colab": {
          "base_uri": "https://localhost:8080/"
        },
        "id": "Mk6KbJXk76I6",
        "outputId": "3c41b482-2912-4c3c-b32e-5e109a7e00b7"
      },
      "execution_count": 249,
      "outputs": [
        {
          "output_type": "execute_result",
          "data": {
            "text/plain": [
              "Index(['company', 'level', 'title', 'totalyearlycompensation', 'location',\n",
              "       'yearsofexperience', 'yearsatcompany', 'tag', 'gender',\n",
              "       'ratioatcurrentcompany'],\n",
              "      dtype='object')"
            ]
          },
          "metadata": {},
          "execution_count": 249
        }
      ]
    },
    {
      "cell_type": "code",
      "source": [
        "class InsertRatio(BaseEstimator, TransformerMixin):\n",
        "\n",
        "    def __init__(self, insert=True):\n",
        "        self.insert = insert\n",
        "        \n",
        "    def fit(self, X, y=None):\n",
        "        return self\n",
        "    \n",
        "    def transform(self, X, y=None):\n",
        "        if self.insert:\n",
        "            X[\"ratioatcurrentcompany\"] = copy_df[\"yearsofexperience\"] / (copy_df[\"yearsatcompany\"]) \n",
        "            \n",
        "            # If the new feature is intended to replace the existing ones, \n",
        "            # you could drop the existing ones here\n",
        "            # X.drop([\"flarea\", \"bthrms\", \"bdrms\"], axis=1)\n",
        "    \n",
        "            X = X.replace( [ np.inf, -np.inf ], np.nan )\n",
        "        return X"
      ],
      "metadata": {
        "id": "jqCMXydZzt4f"
      },
      "execution_count": 250,
      "outputs": []
    },
    {
      "cell_type": "markdown",
      "source": [
        "## Now we create our Preprossesor, specifiying for out num_features we want to replace NaNs with the mean (althought there shouldnt be any NaNs left) and replace nom_features with the mode"
      ],
      "metadata": {
        "id": "yoHLcxKzz5AI"
      }
    },
    {
      "cell_type": "code",
      "source": [
        "# define our numeric and nominal features\n",
        "features = [ 'yearsatcompany', 'yearsofexperience','company', 'level','title','location','tag','gender']\n",
        "numeric_features = [ 'yearsatcompany', 'yearsofexperience']\n",
        "nominal_features = ['company', 'level','title','location','tag','gender']\n",
        "\n",
        "preprocessor = ColumnTransformer([\n",
        "        (\"num\", Pipeline([(\"ratioatcurrentcompany\", InsertRatio()),\n",
        "                          (\"imputer\", SimpleImputer(missing_values=np.nan, strategy=\"mean\")),\n",
        "                          (\"scaler\", StandardScaler())]), \n",
        "                numeric_features),\n",
        "        (\"nom\", Pipeline([(\"imputer\", SimpleImputer(missing_values=np.nan, strategy=\"most_frequent\")), \n",
        "                          (\"binarizer\", OneHotEncoder(handle_unknown=\"ignore\"))]), \n",
        "                nominal_features)],\n",
        "        remainder=\"passthrough\")"
      ],
      "metadata": {
        "id": "qQmGIotpyBtv"
      },
      "execution_count": 251,
      "outputs": []
    },
    {
      "cell_type": "code",
      "source": [
        "# Extract the features but leave as a DataFrame\n",
        "dev_X = dev_df[features]\n",
        "test_X = test_df[features]\n",
        "\n",
        "# Target values, converted to a 1D numpy array\n",
        "dev_y = dev_df[\"totalyearlycompensation\"].values\n",
        "test_y = test_df[\"totalyearlycompensation\"].values"
      ],
      "metadata": {
        "id": "Suh0bcV_8aaN"
      },
      "execution_count": 252,
      "outputs": []
    },
    {
      "cell_type": "markdown",
      "source": [
        "# This class will allow we to test different methods of scaling via gridsearch to find the most accurate"
      ],
      "metadata": {
        "id": "sv8a3RCy3xbO"
      }
    },
    {
      "cell_type": "code",
      "source": [
        "class MetaTransformer(BaseEstimator, TransformerMixin):\n",
        "\n",
        "    def __init__(self, transformer=None):\n",
        "        self.transformer = transformer\n",
        "        \n",
        "    def fit(self, X, y=None):\n",
        "        if self.transformer:\n",
        "            self.transformer.fit(X, y)\n",
        "        return self\n",
        "    \n",
        "    def transform(self, X, y=None):\n",
        "        if self.transformer:\n",
        "            return self.transformer.transform(X)\n",
        "        else:\n",
        "            return X"
      ],
      "metadata": {
        "id": "W2ivrYTz3wbV"
      },
      "execution_count": 253,
      "outputs": []
    },
    {
      "cell_type": "markdown",
      "source": [
        "## We can first try KNN\n",
        "- doing a grid search to find the best option for out hyperparametres and also to decide to use my custom column or not \n",
        "- Ive found it isn't useful to add my column, so im going to remove that code for the sake of completion time "
      ],
      "metadata": {
        "id": "77SE5Lbj2IBe"
      }
    },
    {
      "cell_type": "code",
      "source": [
        "# Create a pipeline that combines the preprocessor with kNN\n",
        "knn = Pipeline([\n",
        "    (\"preprocessor\", preprocessor),\n",
        "    (\"predictor\", KNeighborsRegressor())])\n",
        "\n",
        "# Create a dictionary of hyperparameters for kNN\n",
        "knn_param_grid = {\"predictor__n_neighbors\": [5,10,15]}\n",
        "\n",
        "# Create the grid search object which will find the best hyperparameter values based on validation error\n",
        "knn_gs = GridSearchCV(knn, knn_param_grid, scoring=\"neg_mean_absolute_error\", cv=10, refit=True)\n",
        "\n",
        "# Run grid search by calling fit. It will also re-train on train+validation using the best parameters.\n",
        "knn_gs.fit(dev_X, dev_y)\n",
        "\n",
        "# Let's see how well we did\n",
        "knn_gs.best_params_, knn_gs.best_score_"
      ],
      "metadata": {
        "colab": {
          "base_uri": "https://localhost:8080/"
        },
        "id": "vppP5fdn88IB",
        "outputId": "2c2175b1-3103-40fd-b239-de579ca3a8fc"
      },
      "execution_count": 254,
      "outputs": [
        {
          "output_type": "execute_result",
          "data": {
            "text/plain": [
              "({'predictor__n_neighbors': 15}, -63.65810177013369)"
            ]
          },
          "metadata": {},
          "execution_count": 254
        }
      ]
    },
    {
      "cell_type": "markdown",
      "source": [
        "## Now lets try Ridge Regressession"
      ],
      "metadata": {
        "id": "ahv-kCMb3Jzv"
      }
    },
    {
      "cell_type": "code",
      "source": [
        "# Create a pipeline that combines the preprocessor with ridge regression\n",
        "ridge = Pipeline([\n",
        "    (\"preprocessor\", preprocessor),\n",
        "    (\"predictor\", Ridge())])\n",
        "\n",
        "# Create a dictionary of hyperparameters for rideg regression\n",
        "# ridge_param_grid = { \"preprocessor__num__scaler__transformer\": [StandardScaler(), MinMaxScaler(), RobustScaler()],\n",
        "#                      \"predictor__alpha\": [0, 45.0, 55.0]}\n",
        "\n",
        "ridge_param_grid = {\"predictor__alpha\": [0.0, 2.0,  5.0, 7.0, 10.0, 15.0,20.0]}\n",
        "\n",
        "# Create the grid search object which will find the best hyperparameter values based on validation error\n",
        "ridge_gs = GridSearchCV(ridge, ridge_param_grid, scoring=\"neg_mean_absolute_error\", cv=10, refit=True)\n",
        "\n",
        "# Run grid search by calling fit. It will also re-train on train+validation using the best parameters.\n",
        "ridge_gs.fit(dev_X, dev_y)\n",
        "\n",
        "# Let's see how well we did\n",
        "ridge_gs.best_params_, ridge_gs.best_score_"
      ],
      "metadata": {
        "colab": {
          "base_uri": "https://localhost:8080/"
        },
        "id": "Kutdi_ZJ9KbW",
        "outputId": "585fcd58-6bf9-4797-9a43-e1750f3342ff"
      },
      "execution_count": 255,
      "outputs": [
        {
          "output_type": "execute_result",
          "data": {
            "text/plain": [
              "({'predictor__alpha': 7.0}, -58.446618909794076)"
            ]
          },
          "metadata": {},
          "execution_count": 255
        }
      ]
    },
    {
      "cell_type": "markdown",
      "source": [
        "# And with Ordinary linear regression"
      ],
      "metadata": {
        "id": "QMs8yY4F464i"
      }
    },
    {
      "cell_type": "code",
      "source": [
        "# Create a pipeline that combines the preprocessor with linear regression\n",
        "ols = Pipeline([\n",
        "    (\"preprocessor\", preprocessor),\n",
        "    (\"predictor\", LinearRegression())])\n",
        "\n",
        "# Create a dictionary of hyperparameters\n",
        "ols_param_grid = {\n",
        "}\n",
        "\n",
        "# Create the grid search object which will find the best hyperparameter values based on validation error\n",
        "ols_gs = GridSearchCV(ols, ols_param_grid, scoring=\"neg_mean_absolute_error\", cv=10, refit=True)\n",
        "\n",
        "# Run grid search by calling fit. . It will also re-train on train+validation using the best parameters.\n",
        "ols_gs.fit(dev_X, dev_y)\n",
        "\n",
        "# Let's see how well we did\n",
        "ols_gs.best_params_, ols_gs.best_score_"
      ],
      "metadata": {
        "colab": {
          "base_uri": "https://localhost:8080/"
        },
        "id": "zGXegLAQ5Apq",
        "outputId": "eeb0ce26-0ebe-43f0-b32c-f14db67805d3"
      },
      "execution_count": 256,
      "outputs": [
        {
          "output_type": "execute_result",
          "data": {
            "text/plain": [
              "({}, -58.75921711649512)"
            ]
          },
          "metadata": {},
          "execution_count": 256
        }
      ]
    },
    {
      "cell_type": "code",
      "source": [
        "# knn.set_params(**knn_gs.best_params_) \n",
        "# scores = cross_validate(knn, dev_X, dev_y, cv=10, \n",
        "#                         scoring=\"neg_mean_absolute_error\", return_train_score=True)\n",
        "# print(\"Training error: \", np.mean(np.abs(scores[\"train_score\"])))\n",
        "# print(\"Validation error: \", np.mean(np.abs(scores[\"test_score\"])))"
      ],
      "metadata": {
        "colab": {
          "base_uri": "https://localhost:8080/",
          "height": 375
        },
        "id": "af3hJPzF9ZVn",
        "outputId": "2a95825c-472d-49f6-fcfa-d78199ca5d43"
      },
      "execution_count": 257,
      "outputs": [
        {
          "output_type": "error",
          "ename": "KeyboardInterrupt",
          "evalue": "ignored",
          "traceback": [
            "\u001b[0;31m---------------------------------------------------------------------------\u001b[0m",
            "\u001b[0;31mKeyboardInterrupt\u001b[0m                         Traceback (most recent call last)",
            "\u001b[0;32m<ipython-input-257-350b8efcdf45>\u001b[0m in \u001b[0;36m<module>\u001b[0;34m\u001b[0m\n\u001b[1;32m      1\u001b[0m \u001b[0mknn\u001b[0m\u001b[0;34m.\u001b[0m\u001b[0mset_params\u001b[0m\u001b[0;34m(\u001b[0m\u001b[0;34m**\u001b[0m\u001b[0mknn_gs\u001b[0m\u001b[0;34m.\u001b[0m\u001b[0mbest_params_\u001b[0m\u001b[0;34m)\u001b[0m\u001b[0;34m\u001b[0m\u001b[0;34m\u001b[0m\u001b[0m\n\u001b[1;32m      2\u001b[0m scores = cross_validate(knn, dev_X, dev_y, cv=10, \n\u001b[0;32m----> 3\u001b[0;31m                         scoring=\"neg_mean_absolute_error\", return_train_score=True)\n\u001b[0m\u001b[1;32m      4\u001b[0m \u001b[0mprint\u001b[0m\u001b[0;34m(\u001b[0m\u001b[0;34m\"Training error: \"\u001b[0m\u001b[0;34m,\u001b[0m \u001b[0mnp\u001b[0m\u001b[0;34m.\u001b[0m\u001b[0mmean\u001b[0m\u001b[0;34m(\u001b[0m\u001b[0mnp\u001b[0m\u001b[0;34m.\u001b[0m\u001b[0mabs\u001b[0m\u001b[0;34m(\u001b[0m\u001b[0mscores\u001b[0m\u001b[0;34m[\u001b[0m\u001b[0;34m\"train_score\"\u001b[0m\u001b[0;34m]\u001b[0m\u001b[0;34m)\u001b[0m\u001b[0;34m)\u001b[0m\u001b[0;34m)\u001b[0m\u001b[0;34m\u001b[0m\u001b[0;34m\u001b[0m\u001b[0m\n\u001b[1;32m      5\u001b[0m \u001b[0mprint\u001b[0m\u001b[0;34m(\u001b[0m\u001b[0;34m\"Validation error: \"\u001b[0m\u001b[0;34m,\u001b[0m \u001b[0mnp\u001b[0m\u001b[0;34m.\u001b[0m\u001b[0mmean\u001b[0m\u001b[0;34m(\u001b[0m\u001b[0mnp\u001b[0m\u001b[0;34m.\u001b[0m\u001b[0mabs\u001b[0m\u001b[0;34m(\u001b[0m\u001b[0mscores\u001b[0m\u001b[0;34m[\u001b[0m\u001b[0;34m\"test_score\"\u001b[0m\u001b[0;34m]\u001b[0m\u001b[0;34m)\u001b[0m\u001b[0;34m)\u001b[0m\u001b[0;34m)\u001b[0m\u001b[0;34m\u001b[0m\u001b[0;34m\u001b[0m\u001b[0m\n",
            "\u001b[0;32m/usr/local/lib/python3.7/dist-packages/sklearn/model_selection/_validation.py\u001b[0m in \u001b[0;36mcross_validate\u001b[0;34m(estimator, X, y, groups, scoring, cv, n_jobs, verbose, fit_params, pre_dispatch, return_train_score, return_estimator, error_score)\u001b[0m\n\u001b[1;32m    281\u001b[0m             \u001b[0merror_score\u001b[0m\u001b[0;34m=\u001b[0m\u001b[0merror_score\u001b[0m\u001b[0;34m,\u001b[0m\u001b[0;34m\u001b[0m\u001b[0;34m\u001b[0m\u001b[0m\n\u001b[1;32m    282\u001b[0m         )\n\u001b[0;32m--> 283\u001b[0;31m         \u001b[0;32mfor\u001b[0m \u001b[0mtrain\u001b[0m\u001b[0;34m,\u001b[0m \u001b[0mtest\u001b[0m \u001b[0;32min\u001b[0m \u001b[0mcv\u001b[0m\u001b[0;34m.\u001b[0m\u001b[0msplit\u001b[0m\u001b[0;34m(\u001b[0m\u001b[0mX\u001b[0m\u001b[0;34m,\u001b[0m \u001b[0my\u001b[0m\u001b[0;34m,\u001b[0m \u001b[0mgroups\u001b[0m\u001b[0;34m)\u001b[0m\u001b[0;34m\u001b[0m\u001b[0;34m\u001b[0m\u001b[0m\n\u001b[0m\u001b[1;32m    284\u001b[0m     )\n\u001b[1;32m    285\u001b[0m \u001b[0;34m\u001b[0m\u001b[0m\n",
            "\u001b[0;32m/usr/local/lib/python3.7/dist-packages/joblib/parallel.py\u001b[0m in \u001b[0;36m__call__\u001b[0;34m(self, iterable)\u001b[0m\n\u001b[1;32m   1086\u001b[0m                 \u001b[0mself\u001b[0m\u001b[0;34m.\u001b[0m\u001b[0m_iterating\u001b[0m \u001b[0;34m=\u001b[0m \u001b[0mself\u001b[0m\u001b[0;34m.\u001b[0m\u001b[0m_original_iterator\u001b[0m \u001b[0;32mis\u001b[0m \u001b[0;32mnot\u001b[0m \u001b[0;32mNone\u001b[0m\u001b[0;34m\u001b[0m\u001b[0;34m\u001b[0m\u001b[0m\n\u001b[1;32m   1087\u001b[0m \u001b[0;34m\u001b[0m\u001b[0m\n\u001b[0;32m-> 1088\u001b[0;31m             \u001b[0;32mwhile\u001b[0m \u001b[0mself\u001b[0m\u001b[0;34m.\u001b[0m\u001b[0mdispatch_one_batch\u001b[0m\u001b[0;34m(\u001b[0m\u001b[0miterator\u001b[0m\u001b[0;34m)\u001b[0m\u001b[0;34m:\u001b[0m\u001b[0;34m\u001b[0m\u001b[0;34m\u001b[0m\u001b[0m\n\u001b[0m\u001b[1;32m   1089\u001b[0m                 \u001b[0;32mpass\u001b[0m\u001b[0;34m\u001b[0m\u001b[0;34m\u001b[0m\u001b[0m\n\u001b[1;32m   1090\u001b[0m \u001b[0;34m\u001b[0m\u001b[0m\n",
            "\u001b[0;32m/usr/local/lib/python3.7/dist-packages/joblib/parallel.py\u001b[0m in \u001b[0;36mdispatch_one_batch\u001b[0;34m(self, iterator)\u001b[0m\n\u001b[1;32m    899\u001b[0m                 \u001b[0;32mreturn\u001b[0m \u001b[0;32mFalse\u001b[0m\u001b[0;34m\u001b[0m\u001b[0;34m\u001b[0m\u001b[0m\n\u001b[1;32m    900\u001b[0m             \u001b[0;32melse\u001b[0m\u001b[0;34m:\u001b[0m\u001b[0;34m\u001b[0m\u001b[0;34m\u001b[0m\u001b[0m\n\u001b[0;32m--> 901\u001b[0;31m                 \u001b[0mself\u001b[0m\u001b[0;34m.\u001b[0m\u001b[0m_dispatch\u001b[0m\u001b[0;34m(\u001b[0m\u001b[0mtasks\u001b[0m\u001b[0;34m)\u001b[0m\u001b[0;34m\u001b[0m\u001b[0;34m\u001b[0m\u001b[0m\n\u001b[0m\u001b[1;32m    902\u001b[0m                 \u001b[0;32mreturn\u001b[0m \u001b[0;32mTrue\u001b[0m\u001b[0;34m\u001b[0m\u001b[0;34m\u001b[0m\u001b[0m\n\u001b[1;32m    903\u001b[0m \u001b[0;34m\u001b[0m\u001b[0m\n",
            "\u001b[0;32m/usr/local/lib/python3.7/dist-packages/joblib/parallel.py\u001b[0m in \u001b[0;36m_dispatch\u001b[0;34m(self, batch)\u001b[0m\n\u001b[1;32m    817\u001b[0m         \u001b[0;32mwith\u001b[0m \u001b[0mself\u001b[0m\u001b[0;34m.\u001b[0m\u001b[0m_lock\u001b[0m\u001b[0;34m:\u001b[0m\u001b[0;34m\u001b[0m\u001b[0;34m\u001b[0m\u001b[0m\n\u001b[1;32m    818\u001b[0m             \u001b[0mjob_idx\u001b[0m \u001b[0;34m=\u001b[0m \u001b[0mlen\u001b[0m\u001b[0;34m(\u001b[0m\u001b[0mself\u001b[0m\u001b[0;34m.\u001b[0m\u001b[0m_jobs\u001b[0m\u001b[0;34m)\u001b[0m\u001b[0;34m\u001b[0m\u001b[0;34m\u001b[0m\u001b[0m\n\u001b[0;32m--> 819\u001b[0;31m             \u001b[0mjob\u001b[0m \u001b[0;34m=\u001b[0m \u001b[0mself\u001b[0m\u001b[0;34m.\u001b[0m\u001b[0m_backend\u001b[0m\u001b[0;34m.\u001b[0m\u001b[0mapply_async\u001b[0m\u001b[0;34m(\u001b[0m\u001b[0mbatch\u001b[0m\u001b[0;34m,\u001b[0m \u001b[0mcallback\u001b[0m\u001b[0;34m=\u001b[0m\u001b[0mcb\u001b[0m\u001b[0;34m)\u001b[0m\u001b[0;34m\u001b[0m\u001b[0;34m\u001b[0m\u001b[0m\n\u001b[0m\u001b[1;32m    820\u001b[0m             \u001b[0;31m# A job can complete so quickly than its callback is\u001b[0m\u001b[0;34m\u001b[0m\u001b[0;34m\u001b[0m\u001b[0;34m\u001b[0m\u001b[0m\n\u001b[1;32m    821\u001b[0m             \u001b[0;31m# called before we get here, causing self._jobs to\u001b[0m\u001b[0;34m\u001b[0m\u001b[0;34m\u001b[0m\u001b[0;34m\u001b[0m\u001b[0m\n",
            "\u001b[0;32m/usr/local/lib/python3.7/dist-packages/joblib/_parallel_backends.py\u001b[0m in \u001b[0;36mapply_async\u001b[0;34m(self, func, callback)\u001b[0m\n\u001b[1;32m    206\u001b[0m     \u001b[0;32mdef\u001b[0m \u001b[0mapply_async\u001b[0m\u001b[0;34m(\u001b[0m\u001b[0mself\u001b[0m\u001b[0;34m,\u001b[0m \u001b[0mfunc\u001b[0m\u001b[0;34m,\u001b[0m \u001b[0mcallback\u001b[0m\u001b[0;34m=\u001b[0m\u001b[0;32mNone\u001b[0m\u001b[0;34m)\u001b[0m\u001b[0;34m:\u001b[0m\u001b[0;34m\u001b[0m\u001b[0;34m\u001b[0m\u001b[0m\n\u001b[1;32m    207\u001b[0m         \u001b[0;34m\"\"\"Schedule a func to be run\"\"\"\u001b[0m\u001b[0;34m\u001b[0m\u001b[0;34m\u001b[0m\u001b[0m\n\u001b[0;32m--> 208\u001b[0;31m         \u001b[0mresult\u001b[0m \u001b[0;34m=\u001b[0m \u001b[0mImmediateResult\u001b[0m\u001b[0;34m(\u001b[0m\u001b[0mfunc\u001b[0m\u001b[0;34m)\u001b[0m\u001b[0;34m\u001b[0m\u001b[0;34m\u001b[0m\u001b[0m\n\u001b[0m\u001b[1;32m    209\u001b[0m         \u001b[0;32mif\u001b[0m \u001b[0mcallback\u001b[0m\u001b[0;34m:\u001b[0m\u001b[0;34m\u001b[0m\u001b[0;34m\u001b[0m\u001b[0m\n\u001b[1;32m    210\u001b[0m             \u001b[0mcallback\u001b[0m\u001b[0;34m(\u001b[0m\u001b[0mresult\u001b[0m\u001b[0;34m)\u001b[0m\u001b[0;34m\u001b[0m\u001b[0;34m\u001b[0m\u001b[0m\n",
            "\u001b[0;32m/usr/local/lib/python3.7/dist-packages/joblib/_parallel_backends.py\u001b[0m in \u001b[0;36m__init__\u001b[0;34m(self, batch)\u001b[0m\n\u001b[1;32m    595\u001b[0m         \u001b[0;31m# Don't delay the application, to avoid keeping the input\u001b[0m\u001b[0;34m\u001b[0m\u001b[0;34m\u001b[0m\u001b[0;34m\u001b[0m\u001b[0m\n\u001b[1;32m    596\u001b[0m         \u001b[0;31m# arguments in memory\u001b[0m\u001b[0;34m\u001b[0m\u001b[0;34m\u001b[0m\u001b[0;34m\u001b[0m\u001b[0m\n\u001b[0;32m--> 597\u001b[0;31m         \u001b[0mself\u001b[0m\u001b[0;34m.\u001b[0m\u001b[0mresults\u001b[0m \u001b[0;34m=\u001b[0m \u001b[0mbatch\u001b[0m\u001b[0;34m(\u001b[0m\u001b[0;34m)\u001b[0m\u001b[0;34m\u001b[0m\u001b[0;34m\u001b[0m\u001b[0m\n\u001b[0m\u001b[1;32m    598\u001b[0m \u001b[0;34m\u001b[0m\u001b[0m\n\u001b[1;32m    599\u001b[0m     \u001b[0;32mdef\u001b[0m \u001b[0mget\u001b[0m\u001b[0;34m(\u001b[0m\u001b[0mself\u001b[0m\u001b[0;34m)\u001b[0m\u001b[0;34m:\u001b[0m\u001b[0;34m\u001b[0m\u001b[0;34m\u001b[0m\u001b[0m\n",
            "\u001b[0;32m/usr/local/lib/python3.7/dist-packages/joblib/parallel.py\u001b[0m in \u001b[0;36m__call__\u001b[0;34m(self)\u001b[0m\n\u001b[1;32m    287\u001b[0m         \u001b[0;32mwith\u001b[0m \u001b[0mparallel_backend\u001b[0m\u001b[0;34m(\u001b[0m\u001b[0mself\u001b[0m\u001b[0;34m.\u001b[0m\u001b[0m_backend\u001b[0m\u001b[0;34m,\u001b[0m \u001b[0mn_jobs\u001b[0m\u001b[0;34m=\u001b[0m\u001b[0mself\u001b[0m\u001b[0;34m.\u001b[0m\u001b[0m_n_jobs\u001b[0m\u001b[0;34m)\u001b[0m\u001b[0;34m:\u001b[0m\u001b[0;34m\u001b[0m\u001b[0;34m\u001b[0m\u001b[0m\n\u001b[1;32m    288\u001b[0m             return [func(*args, **kwargs)\n\u001b[0;32m--> 289\u001b[0;31m                     for func, args, kwargs in self.items]\n\u001b[0m\u001b[1;32m    290\u001b[0m \u001b[0;34m\u001b[0m\u001b[0m\n\u001b[1;32m    291\u001b[0m     \u001b[0;32mdef\u001b[0m \u001b[0m__reduce__\u001b[0m\u001b[0;34m(\u001b[0m\u001b[0mself\u001b[0m\u001b[0;34m)\u001b[0m\u001b[0;34m:\u001b[0m\u001b[0;34m\u001b[0m\u001b[0;34m\u001b[0m\u001b[0m\n",
            "\u001b[0;32m/usr/local/lib/python3.7/dist-packages/joblib/parallel.py\u001b[0m in \u001b[0;36m<listcomp>\u001b[0;34m(.0)\u001b[0m\n\u001b[1;32m    287\u001b[0m         \u001b[0;32mwith\u001b[0m \u001b[0mparallel_backend\u001b[0m\u001b[0;34m(\u001b[0m\u001b[0mself\u001b[0m\u001b[0;34m.\u001b[0m\u001b[0m_backend\u001b[0m\u001b[0;34m,\u001b[0m \u001b[0mn_jobs\u001b[0m\u001b[0;34m=\u001b[0m\u001b[0mself\u001b[0m\u001b[0;34m.\u001b[0m\u001b[0m_n_jobs\u001b[0m\u001b[0;34m)\u001b[0m\u001b[0;34m:\u001b[0m\u001b[0;34m\u001b[0m\u001b[0;34m\u001b[0m\u001b[0m\n\u001b[1;32m    288\u001b[0m             return [func(*args, **kwargs)\n\u001b[0;32m--> 289\u001b[0;31m                     for func, args, kwargs in self.items]\n\u001b[0m\u001b[1;32m    290\u001b[0m \u001b[0;34m\u001b[0m\u001b[0m\n\u001b[1;32m    291\u001b[0m     \u001b[0;32mdef\u001b[0m \u001b[0m__reduce__\u001b[0m\u001b[0;34m(\u001b[0m\u001b[0mself\u001b[0m\u001b[0;34m)\u001b[0m\u001b[0;34m:\u001b[0m\u001b[0;34m\u001b[0m\u001b[0;34m\u001b[0m\u001b[0m\n",
            "\u001b[0;32m/usr/local/lib/python3.7/dist-packages/sklearn/utils/fixes.py\u001b[0m in \u001b[0;36m__call__\u001b[0;34m(self, *args, **kwargs)\u001b[0m\n\u001b[1;32m    214\u001b[0m     \u001b[0;32mdef\u001b[0m \u001b[0m__call__\u001b[0m\u001b[0;34m(\u001b[0m\u001b[0mself\u001b[0m\u001b[0;34m,\u001b[0m \u001b[0;34m*\u001b[0m\u001b[0margs\u001b[0m\u001b[0;34m,\u001b[0m \u001b[0;34m**\u001b[0m\u001b[0mkwargs\u001b[0m\u001b[0;34m)\u001b[0m\u001b[0;34m:\u001b[0m\u001b[0;34m\u001b[0m\u001b[0;34m\u001b[0m\u001b[0m\n\u001b[1;32m    215\u001b[0m         \u001b[0;32mwith\u001b[0m \u001b[0mconfig_context\u001b[0m\u001b[0;34m(\u001b[0m\u001b[0;34m**\u001b[0m\u001b[0mself\u001b[0m\u001b[0;34m.\u001b[0m\u001b[0mconfig\u001b[0m\u001b[0;34m)\u001b[0m\u001b[0;34m:\u001b[0m\u001b[0;34m\u001b[0m\u001b[0;34m\u001b[0m\u001b[0m\n\u001b[0;32m--> 216\u001b[0;31m             \u001b[0;32mreturn\u001b[0m \u001b[0mself\u001b[0m\u001b[0;34m.\u001b[0m\u001b[0mfunction\u001b[0m\u001b[0;34m(\u001b[0m\u001b[0;34m*\u001b[0m\u001b[0margs\u001b[0m\u001b[0;34m,\u001b[0m \u001b[0;34m**\u001b[0m\u001b[0mkwargs\u001b[0m\u001b[0;34m)\u001b[0m\u001b[0;34m\u001b[0m\u001b[0;34m\u001b[0m\u001b[0m\n\u001b[0m\u001b[1;32m    217\u001b[0m \u001b[0;34m\u001b[0m\u001b[0m\n\u001b[1;32m    218\u001b[0m \u001b[0;34m\u001b[0m\u001b[0m\n",
            "\u001b[0;32m/usr/local/lib/python3.7/dist-packages/sklearn/model_selection/_validation.py\u001b[0m in \u001b[0;36m_fit_and_score\u001b[0;34m(estimator, X, y, scorer, train, test, verbose, parameters, fit_params, return_train_score, return_parameters, return_n_test_samples, return_times, return_estimator, split_progress, candidate_progress, error_score)\u001b[0m\n\u001b[1;32m    703\u001b[0m         \u001b[0mscore_time\u001b[0m \u001b[0;34m=\u001b[0m \u001b[0mtime\u001b[0m\u001b[0;34m.\u001b[0m\u001b[0mtime\u001b[0m\u001b[0;34m(\u001b[0m\u001b[0;34m)\u001b[0m \u001b[0;34m-\u001b[0m \u001b[0mstart_time\u001b[0m \u001b[0;34m-\u001b[0m \u001b[0mfit_time\u001b[0m\u001b[0;34m\u001b[0m\u001b[0;34m\u001b[0m\u001b[0m\n\u001b[1;32m    704\u001b[0m         \u001b[0;32mif\u001b[0m \u001b[0mreturn_train_score\u001b[0m\u001b[0;34m:\u001b[0m\u001b[0;34m\u001b[0m\u001b[0;34m\u001b[0m\u001b[0m\n\u001b[0;32m--> 705\u001b[0;31m             \u001b[0mtrain_scores\u001b[0m \u001b[0;34m=\u001b[0m \u001b[0m_score\u001b[0m\u001b[0;34m(\u001b[0m\u001b[0mestimator\u001b[0m\u001b[0;34m,\u001b[0m \u001b[0mX_train\u001b[0m\u001b[0;34m,\u001b[0m \u001b[0my_train\u001b[0m\u001b[0;34m,\u001b[0m \u001b[0mscorer\u001b[0m\u001b[0;34m,\u001b[0m \u001b[0merror_score\u001b[0m\u001b[0;34m)\u001b[0m\u001b[0;34m\u001b[0m\u001b[0;34m\u001b[0m\u001b[0m\n\u001b[0m\u001b[1;32m    706\u001b[0m \u001b[0;34m\u001b[0m\u001b[0m\n\u001b[1;32m    707\u001b[0m     \u001b[0;32mif\u001b[0m \u001b[0mverbose\u001b[0m \u001b[0;34m>\u001b[0m \u001b[0;36m1\u001b[0m\u001b[0;34m:\u001b[0m\u001b[0;34m\u001b[0m\u001b[0;34m\u001b[0m\u001b[0m\n",
            "\u001b[0;32m/usr/local/lib/python3.7/dist-packages/sklearn/model_selection/_validation.py\u001b[0m in \u001b[0;36m_score\u001b[0;34m(estimator, X_test, y_test, scorer, error_score)\u001b[0m\n\u001b[1;32m    759\u001b[0m             \u001b[0mscores\u001b[0m \u001b[0;34m=\u001b[0m \u001b[0mscorer\u001b[0m\u001b[0;34m(\u001b[0m\u001b[0mestimator\u001b[0m\u001b[0;34m,\u001b[0m \u001b[0mX_test\u001b[0m\u001b[0;34m)\u001b[0m\u001b[0;34m\u001b[0m\u001b[0;34m\u001b[0m\u001b[0m\n\u001b[1;32m    760\u001b[0m         \u001b[0;32melse\u001b[0m\u001b[0;34m:\u001b[0m\u001b[0;34m\u001b[0m\u001b[0;34m\u001b[0m\u001b[0m\n\u001b[0;32m--> 761\u001b[0;31m             \u001b[0mscores\u001b[0m \u001b[0;34m=\u001b[0m \u001b[0mscorer\u001b[0m\u001b[0;34m(\u001b[0m\u001b[0mestimator\u001b[0m\u001b[0;34m,\u001b[0m \u001b[0mX_test\u001b[0m\u001b[0;34m,\u001b[0m \u001b[0my_test\u001b[0m\u001b[0;34m)\u001b[0m\u001b[0;34m\u001b[0m\u001b[0;34m\u001b[0m\u001b[0m\n\u001b[0m\u001b[1;32m    762\u001b[0m     \u001b[0;32mexcept\u001b[0m \u001b[0mException\u001b[0m\u001b[0;34m:\u001b[0m\u001b[0;34m\u001b[0m\u001b[0;34m\u001b[0m\u001b[0m\n\u001b[1;32m    763\u001b[0m         \u001b[0;32mif\u001b[0m \u001b[0merror_score\u001b[0m \u001b[0;34m==\u001b[0m \u001b[0;34m\"raise\"\u001b[0m\u001b[0;34m:\u001b[0m\u001b[0;34m\u001b[0m\u001b[0;34m\u001b[0m\u001b[0m\n",
            "\u001b[0;32m/usr/local/lib/python3.7/dist-packages/sklearn/metrics/_scorer.py\u001b[0m in \u001b[0;36m__call__\u001b[0;34m(self, estimator, X, y_true, sample_weight)\u001b[0m\n\u001b[1;32m    219\u001b[0m             \u001b[0mX\u001b[0m\u001b[0;34m,\u001b[0m\u001b[0;34m\u001b[0m\u001b[0;34m\u001b[0m\u001b[0m\n\u001b[1;32m    220\u001b[0m             \u001b[0my_true\u001b[0m\u001b[0;34m,\u001b[0m\u001b[0;34m\u001b[0m\u001b[0;34m\u001b[0m\u001b[0m\n\u001b[0;32m--> 221\u001b[0;31m             \u001b[0msample_weight\u001b[0m\u001b[0;34m=\u001b[0m\u001b[0msample_weight\u001b[0m\u001b[0;34m,\u001b[0m\u001b[0;34m\u001b[0m\u001b[0;34m\u001b[0m\u001b[0m\n\u001b[0m\u001b[1;32m    222\u001b[0m         )\n\u001b[1;32m    223\u001b[0m \u001b[0;34m\u001b[0m\u001b[0m\n",
            "\u001b[0;32m/usr/local/lib/python3.7/dist-packages/sklearn/metrics/_scorer.py\u001b[0m in \u001b[0;36m_score\u001b[0;34m(self, method_caller, estimator, X, y_true, sample_weight)\u001b[0m\n\u001b[1;32m    256\u001b[0m         \"\"\"\n\u001b[1;32m    257\u001b[0m \u001b[0;34m\u001b[0m\u001b[0m\n\u001b[0;32m--> 258\u001b[0;31m         \u001b[0my_pred\u001b[0m \u001b[0;34m=\u001b[0m \u001b[0mmethod_caller\u001b[0m\u001b[0;34m(\u001b[0m\u001b[0mestimator\u001b[0m\u001b[0;34m,\u001b[0m \u001b[0;34m\"predict\"\u001b[0m\u001b[0;34m,\u001b[0m \u001b[0mX\u001b[0m\u001b[0;34m)\u001b[0m\u001b[0;34m\u001b[0m\u001b[0;34m\u001b[0m\u001b[0m\n\u001b[0m\u001b[1;32m    259\u001b[0m         \u001b[0;32mif\u001b[0m \u001b[0msample_weight\u001b[0m \u001b[0;32mis\u001b[0m \u001b[0;32mnot\u001b[0m \u001b[0;32mNone\u001b[0m\u001b[0;34m:\u001b[0m\u001b[0;34m\u001b[0m\u001b[0;34m\u001b[0m\u001b[0m\n\u001b[1;32m    260\u001b[0m             return self._sign * self._score_func(\n",
            "\u001b[0;32m/usr/local/lib/python3.7/dist-packages/sklearn/metrics/_scorer.py\u001b[0m in \u001b[0;36m_cached_call\u001b[0;34m(cache, estimator, method, *args, **kwargs)\u001b[0m\n\u001b[1;32m     66\u001b[0m     \u001b[0;34m\"\"\"Call estimator with method and args and kwargs.\"\"\"\u001b[0m\u001b[0;34m\u001b[0m\u001b[0;34m\u001b[0m\u001b[0m\n\u001b[1;32m     67\u001b[0m     \u001b[0;32mif\u001b[0m \u001b[0mcache\u001b[0m \u001b[0;32mis\u001b[0m \u001b[0;32mNone\u001b[0m\u001b[0;34m:\u001b[0m\u001b[0;34m\u001b[0m\u001b[0;34m\u001b[0m\u001b[0m\n\u001b[0;32m---> 68\u001b[0;31m         \u001b[0;32mreturn\u001b[0m \u001b[0mgetattr\u001b[0m\u001b[0;34m(\u001b[0m\u001b[0mestimator\u001b[0m\u001b[0;34m,\u001b[0m \u001b[0mmethod\u001b[0m\u001b[0;34m)\u001b[0m\u001b[0;34m(\u001b[0m\u001b[0;34m*\u001b[0m\u001b[0margs\u001b[0m\u001b[0;34m,\u001b[0m \u001b[0;34m**\u001b[0m\u001b[0mkwargs\u001b[0m\u001b[0;34m)\u001b[0m\u001b[0;34m\u001b[0m\u001b[0;34m\u001b[0m\u001b[0m\n\u001b[0m\u001b[1;32m     69\u001b[0m \u001b[0;34m\u001b[0m\u001b[0m\n\u001b[1;32m     70\u001b[0m     \u001b[0;32mtry\u001b[0m\u001b[0;34m:\u001b[0m\u001b[0;34m\u001b[0m\u001b[0;34m\u001b[0m\u001b[0m\n",
            "\u001b[0;32m/usr/local/lib/python3.7/dist-packages/sklearn/utils/metaestimators.py\u001b[0m in \u001b[0;36m<lambda>\u001b[0;34m(*args, **kwargs)\u001b[0m\n\u001b[1;32m    111\u001b[0m \u001b[0;34m\u001b[0m\u001b[0m\n\u001b[1;32m    112\u001b[0m             \u001b[0;31m# lambda, but not partial, allows help() to work with update_wrapper\u001b[0m\u001b[0;34m\u001b[0m\u001b[0;34m\u001b[0m\u001b[0;34m\u001b[0m\u001b[0m\n\u001b[0;32m--> 113\u001b[0;31m             \u001b[0mout\u001b[0m \u001b[0;34m=\u001b[0m \u001b[0;32mlambda\u001b[0m \u001b[0;34m*\u001b[0m\u001b[0margs\u001b[0m\u001b[0;34m,\u001b[0m \u001b[0;34m**\u001b[0m\u001b[0mkwargs\u001b[0m\u001b[0;34m:\u001b[0m \u001b[0mself\u001b[0m\u001b[0;34m.\u001b[0m\u001b[0mfn\u001b[0m\u001b[0;34m(\u001b[0m\u001b[0mobj\u001b[0m\u001b[0;34m,\u001b[0m \u001b[0;34m*\u001b[0m\u001b[0margs\u001b[0m\u001b[0;34m,\u001b[0m \u001b[0;34m**\u001b[0m\u001b[0mkwargs\u001b[0m\u001b[0;34m)\u001b[0m  \u001b[0;31m# noqa\u001b[0m\u001b[0;34m\u001b[0m\u001b[0;34m\u001b[0m\u001b[0m\n\u001b[0m\u001b[1;32m    114\u001b[0m         \u001b[0;32melse\u001b[0m\u001b[0;34m:\u001b[0m\u001b[0;34m\u001b[0m\u001b[0;34m\u001b[0m\u001b[0m\n\u001b[1;32m    115\u001b[0m \u001b[0;34m\u001b[0m\u001b[0m\n",
            "\u001b[0;32m/usr/local/lib/python3.7/dist-packages/sklearn/pipeline.py\u001b[0m in \u001b[0;36mpredict\u001b[0;34m(self, X, **predict_params)\u001b[0m\n\u001b[1;32m    468\u001b[0m         \u001b[0;32mfor\u001b[0m \u001b[0m_\u001b[0m\u001b[0;34m,\u001b[0m \u001b[0mname\u001b[0m\u001b[0;34m,\u001b[0m \u001b[0mtransform\u001b[0m \u001b[0;32min\u001b[0m \u001b[0mself\u001b[0m\u001b[0;34m.\u001b[0m\u001b[0m_iter\u001b[0m\u001b[0;34m(\u001b[0m\u001b[0mwith_final\u001b[0m\u001b[0;34m=\u001b[0m\u001b[0;32mFalse\u001b[0m\u001b[0;34m)\u001b[0m\u001b[0;34m:\u001b[0m\u001b[0;34m\u001b[0m\u001b[0;34m\u001b[0m\u001b[0m\n\u001b[1;32m    469\u001b[0m             \u001b[0mXt\u001b[0m \u001b[0;34m=\u001b[0m \u001b[0mtransform\u001b[0m\u001b[0;34m.\u001b[0m\u001b[0mtransform\u001b[0m\u001b[0;34m(\u001b[0m\u001b[0mXt\u001b[0m\u001b[0;34m)\u001b[0m\u001b[0;34m\u001b[0m\u001b[0;34m\u001b[0m\u001b[0m\n\u001b[0;32m--> 470\u001b[0;31m         \u001b[0;32mreturn\u001b[0m \u001b[0mself\u001b[0m\u001b[0;34m.\u001b[0m\u001b[0msteps\u001b[0m\u001b[0;34m[\u001b[0m\u001b[0;34m-\u001b[0m\u001b[0;36m1\u001b[0m\u001b[0;34m]\u001b[0m\u001b[0;34m[\u001b[0m\u001b[0;36m1\u001b[0m\u001b[0;34m]\u001b[0m\u001b[0;34m.\u001b[0m\u001b[0mpredict\u001b[0m\u001b[0;34m(\u001b[0m\u001b[0mXt\u001b[0m\u001b[0;34m,\u001b[0m \u001b[0;34m**\u001b[0m\u001b[0mpredict_params\u001b[0m\u001b[0;34m)\u001b[0m\u001b[0;34m\u001b[0m\u001b[0;34m\u001b[0m\u001b[0m\n\u001b[0m\u001b[1;32m    471\u001b[0m \u001b[0;34m\u001b[0m\u001b[0m\n\u001b[1;32m    472\u001b[0m     \u001b[0;34m@\u001b[0m\u001b[0mavailable_if\u001b[0m\u001b[0;34m(\u001b[0m\u001b[0m_final_estimator_has\u001b[0m\u001b[0;34m(\u001b[0m\u001b[0;34m\"fit_predict\"\u001b[0m\u001b[0;34m)\u001b[0m\u001b[0;34m)\u001b[0m\u001b[0;34m\u001b[0m\u001b[0;34m\u001b[0m\u001b[0m\n",
            "\u001b[0;32m/usr/local/lib/python3.7/dist-packages/sklearn/neighbors/_regression.py\u001b[0m in \u001b[0;36mpredict\u001b[0;34m(self, X)\u001b[0m\n\u001b[1;32m    227\u001b[0m             \u001b[0mTarget\u001b[0m \u001b[0mvalues\u001b[0m\u001b[0;34m.\u001b[0m\u001b[0;34m\u001b[0m\u001b[0;34m\u001b[0m\u001b[0m\n\u001b[1;32m    228\u001b[0m         \"\"\"\n\u001b[0;32m--> 229\u001b[0;31m         \u001b[0mneigh_dist\u001b[0m\u001b[0;34m,\u001b[0m \u001b[0mneigh_ind\u001b[0m \u001b[0;34m=\u001b[0m \u001b[0mself\u001b[0m\u001b[0;34m.\u001b[0m\u001b[0mkneighbors\u001b[0m\u001b[0;34m(\u001b[0m\u001b[0mX\u001b[0m\u001b[0;34m)\u001b[0m\u001b[0;34m\u001b[0m\u001b[0;34m\u001b[0m\u001b[0m\n\u001b[0m\u001b[1;32m    230\u001b[0m \u001b[0;34m\u001b[0m\u001b[0m\n\u001b[1;32m    231\u001b[0m         \u001b[0mweights\u001b[0m \u001b[0;34m=\u001b[0m \u001b[0m_get_weights\u001b[0m\u001b[0;34m(\u001b[0m\u001b[0mneigh_dist\u001b[0m\u001b[0;34m,\u001b[0m \u001b[0mself\u001b[0m\u001b[0;34m.\u001b[0m\u001b[0mweights\u001b[0m\u001b[0;34m)\u001b[0m\u001b[0;34m\u001b[0m\u001b[0;34m\u001b[0m\u001b[0m\n",
            "\u001b[0;32m/usr/local/lib/python3.7/dist-packages/sklearn/neighbors/_base.py\u001b[0m in \u001b[0;36mkneighbors\u001b[0;34m(self, X, n_neighbors, return_distance)\u001b[0m\n\u001b[1;32m    757\u001b[0m                     \u001b[0mmetric\u001b[0m\u001b[0;34m=\u001b[0m\u001b[0mself\u001b[0m\u001b[0;34m.\u001b[0m\u001b[0meffective_metric_\u001b[0m\u001b[0;34m,\u001b[0m\u001b[0;34m\u001b[0m\u001b[0;34m\u001b[0m\u001b[0m\n\u001b[1;32m    758\u001b[0m                     \u001b[0mn_jobs\u001b[0m\u001b[0;34m=\u001b[0m\u001b[0mn_jobs\u001b[0m\u001b[0;34m,\u001b[0m\u001b[0;34m\u001b[0m\u001b[0;34m\u001b[0m\u001b[0m\n\u001b[0;32m--> 759\u001b[0;31m                     \u001b[0;34m**\u001b[0m\u001b[0mkwds\u001b[0m\u001b[0;34m,\u001b[0m\u001b[0;34m\u001b[0m\u001b[0;34m\u001b[0m\u001b[0m\n\u001b[0m\u001b[1;32m    760\u001b[0m                 )\n\u001b[1;32m    761\u001b[0m             )\n",
            "\u001b[0;32m/usr/local/lib/python3.7/dist-packages/sklearn/metrics/pairwise.py\u001b[0m in \u001b[0;36mpairwise_distances_chunked\u001b[0;34m(X, Y, reduce_func, metric, n_jobs, working_memory, **kwds)\u001b[0m\n\u001b[1;32m   1715\u001b[0m         \u001b[0;32melse\u001b[0m\u001b[0;34m:\u001b[0m\u001b[0;34m\u001b[0m\u001b[0;34m\u001b[0m\u001b[0m\n\u001b[1;32m   1716\u001b[0m             \u001b[0mX_chunk\u001b[0m \u001b[0;34m=\u001b[0m \u001b[0mX\u001b[0m\u001b[0;34m[\u001b[0m\u001b[0msl\u001b[0m\u001b[0;34m]\u001b[0m\u001b[0;34m\u001b[0m\u001b[0;34m\u001b[0m\u001b[0m\n\u001b[0;32m-> 1717\u001b[0;31m         \u001b[0mD_chunk\u001b[0m \u001b[0;34m=\u001b[0m \u001b[0mpairwise_distances\u001b[0m\u001b[0;34m(\u001b[0m\u001b[0mX_chunk\u001b[0m\u001b[0;34m,\u001b[0m \u001b[0mY\u001b[0m\u001b[0;34m,\u001b[0m \u001b[0mmetric\u001b[0m\u001b[0;34m=\u001b[0m\u001b[0mmetric\u001b[0m\u001b[0;34m,\u001b[0m \u001b[0mn_jobs\u001b[0m\u001b[0;34m=\u001b[0m\u001b[0mn_jobs\u001b[0m\u001b[0;34m,\u001b[0m \u001b[0;34m**\u001b[0m\u001b[0mkwds\u001b[0m\u001b[0;34m)\u001b[0m\u001b[0;34m\u001b[0m\u001b[0;34m\u001b[0m\u001b[0m\n\u001b[0m\u001b[1;32m   1718\u001b[0m         if (X is Y or Y is None) and PAIRWISE_DISTANCE_FUNCTIONS.get(\n\u001b[1;32m   1719\u001b[0m             \u001b[0mmetric\u001b[0m\u001b[0;34m,\u001b[0m \u001b[0;32mNone\u001b[0m\u001b[0;34m\u001b[0m\u001b[0;34m\u001b[0m\u001b[0m\n",
            "\u001b[0;32m/usr/local/lib/python3.7/dist-packages/sklearn/metrics/pairwise.py\u001b[0m in \u001b[0;36mpairwise_distances\u001b[0;34m(X, Y, metric, n_jobs, force_all_finite, **kwds)\u001b[0m\n\u001b[1;32m   1887\u001b[0m         \u001b[0mfunc\u001b[0m \u001b[0;34m=\u001b[0m \u001b[0mpartial\u001b[0m\u001b[0;34m(\u001b[0m\u001b[0mdistance\u001b[0m\u001b[0;34m.\u001b[0m\u001b[0mcdist\u001b[0m\u001b[0;34m,\u001b[0m \u001b[0mmetric\u001b[0m\u001b[0;34m=\u001b[0m\u001b[0mmetric\u001b[0m\u001b[0;34m,\u001b[0m \u001b[0;34m**\u001b[0m\u001b[0mkwds\u001b[0m\u001b[0;34m)\u001b[0m\u001b[0;34m\u001b[0m\u001b[0;34m\u001b[0m\u001b[0m\n\u001b[1;32m   1888\u001b[0m \u001b[0;34m\u001b[0m\u001b[0m\n\u001b[0;32m-> 1889\u001b[0;31m     \u001b[0;32mreturn\u001b[0m \u001b[0m_parallel_pairwise\u001b[0m\u001b[0;34m(\u001b[0m\u001b[0mX\u001b[0m\u001b[0;34m,\u001b[0m \u001b[0mY\u001b[0m\u001b[0;34m,\u001b[0m \u001b[0mfunc\u001b[0m\u001b[0;34m,\u001b[0m \u001b[0mn_jobs\u001b[0m\u001b[0;34m,\u001b[0m \u001b[0;34m**\u001b[0m\u001b[0mkwds\u001b[0m\u001b[0;34m)\u001b[0m\u001b[0;34m\u001b[0m\u001b[0;34m\u001b[0m\u001b[0m\n\u001b[0m\u001b[1;32m   1890\u001b[0m \u001b[0;34m\u001b[0m\u001b[0m\n\u001b[1;32m   1891\u001b[0m \u001b[0;34m\u001b[0m\u001b[0m\n",
            "\u001b[0;32m/usr/local/lib/python3.7/dist-packages/sklearn/metrics/pairwise.py\u001b[0m in \u001b[0;36m_parallel_pairwise\u001b[0;34m(X, Y, func, n_jobs, **kwds)\u001b[0m\n\u001b[1;32m   1428\u001b[0m \u001b[0;34m\u001b[0m\u001b[0m\n\u001b[1;32m   1429\u001b[0m     \u001b[0;32mif\u001b[0m \u001b[0meffective_n_jobs\u001b[0m\u001b[0;34m(\u001b[0m\u001b[0mn_jobs\u001b[0m\u001b[0;34m)\u001b[0m \u001b[0;34m==\u001b[0m \u001b[0;36m1\u001b[0m\u001b[0;34m:\u001b[0m\u001b[0;34m\u001b[0m\u001b[0;34m\u001b[0m\u001b[0m\n\u001b[0;32m-> 1430\u001b[0;31m         \u001b[0;32mreturn\u001b[0m \u001b[0mfunc\u001b[0m\u001b[0;34m(\u001b[0m\u001b[0mX\u001b[0m\u001b[0;34m,\u001b[0m \u001b[0mY\u001b[0m\u001b[0;34m,\u001b[0m \u001b[0;34m**\u001b[0m\u001b[0mkwds\u001b[0m\u001b[0;34m)\u001b[0m\u001b[0;34m\u001b[0m\u001b[0;34m\u001b[0m\u001b[0m\n\u001b[0m\u001b[1;32m   1431\u001b[0m \u001b[0;34m\u001b[0m\u001b[0m\n\u001b[1;32m   1432\u001b[0m     \u001b[0;31m# enforce a threading backend to prevent data communication overhead\u001b[0m\u001b[0;34m\u001b[0m\u001b[0;34m\u001b[0m\u001b[0;34m\u001b[0m\u001b[0m\n",
            "\u001b[0;32m/usr/local/lib/python3.7/dist-packages/sklearn/metrics/pairwise.py\u001b[0m in \u001b[0;36meuclidean_distances\u001b[0;34m(X, Y, Y_norm_squared, squared, X_norm_squared)\u001b[0m\n\u001b[1;32m    328\u001b[0m             )\n\u001b[1;32m    329\u001b[0m \u001b[0;34m\u001b[0m\u001b[0m\n\u001b[0;32m--> 330\u001b[0;31m     \u001b[0;32mreturn\u001b[0m \u001b[0m_euclidean_distances\u001b[0m\u001b[0;34m(\u001b[0m\u001b[0mX\u001b[0m\u001b[0;34m,\u001b[0m \u001b[0mY\u001b[0m\u001b[0;34m,\u001b[0m \u001b[0mX_norm_squared\u001b[0m\u001b[0;34m,\u001b[0m \u001b[0mY_norm_squared\u001b[0m\u001b[0;34m,\u001b[0m \u001b[0msquared\u001b[0m\u001b[0;34m)\u001b[0m\u001b[0;34m\u001b[0m\u001b[0;34m\u001b[0m\u001b[0m\n\u001b[0m\u001b[1;32m    331\u001b[0m \u001b[0;34m\u001b[0m\u001b[0m\n\u001b[1;32m    332\u001b[0m \u001b[0;34m\u001b[0m\u001b[0m\n",
            "\u001b[0;32m/usr/local/lib/python3.7/dist-packages/sklearn/metrics/pairwise.py\u001b[0m in \u001b[0;36m_euclidean_distances\u001b[0;34m(X, Y, X_norm_squared, Y_norm_squared, squared)\u001b[0m\n\u001b[1;32m    369\u001b[0m     \u001b[0;32melse\u001b[0m\u001b[0;34m:\u001b[0m\u001b[0;34m\u001b[0m\u001b[0;34m\u001b[0m\u001b[0m\n\u001b[1;32m    370\u001b[0m         \u001b[0;31m# if dtype is already float64, no need to chunk and upcast\u001b[0m\u001b[0;34m\u001b[0m\u001b[0;34m\u001b[0m\u001b[0;34m\u001b[0m\u001b[0m\n\u001b[0;32m--> 371\u001b[0;31m         \u001b[0mdistances\u001b[0m \u001b[0;34m=\u001b[0m \u001b[0;34m-\u001b[0m\u001b[0;36m2\u001b[0m \u001b[0;34m*\u001b[0m \u001b[0msafe_sparse_dot\u001b[0m\u001b[0;34m(\u001b[0m\u001b[0mX\u001b[0m\u001b[0;34m,\u001b[0m \u001b[0mY\u001b[0m\u001b[0;34m.\u001b[0m\u001b[0mT\u001b[0m\u001b[0;34m,\u001b[0m \u001b[0mdense_output\u001b[0m\u001b[0;34m=\u001b[0m\u001b[0;32mTrue\u001b[0m\u001b[0;34m)\u001b[0m\u001b[0;34m\u001b[0m\u001b[0;34m\u001b[0m\u001b[0m\n\u001b[0m\u001b[1;32m    372\u001b[0m         \u001b[0mdistances\u001b[0m \u001b[0;34m+=\u001b[0m \u001b[0mXX\u001b[0m\u001b[0;34m\u001b[0m\u001b[0;34m\u001b[0m\u001b[0m\n\u001b[1;32m    373\u001b[0m         \u001b[0mdistances\u001b[0m \u001b[0;34m+=\u001b[0m \u001b[0mYY\u001b[0m\u001b[0;34m\u001b[0m\u001b[0;34m\u001b[0m\u001b[0m\n",
            "\u001b[0;32m/usr/local/lib/python3.7/dist-packages/sklearn/utils/extmath.py\u001b[0m in \u001b[0;36msafe_sparse_dot\u001b[0;34m(a, b, dense_output)\u001b[0m\n\u001b[1;32m    151\u001b[0m             \u001b[0mret\u001b[0m \u001b[0;34m=\u001b[0m \u001b[0mnp\u001b[0m\u001b[0;34m.\u001b[0m\u001b[0mdot\u001b[0m\u001b[0;34m(\u001b[0m\u001b[0ma\u001b[0m\u001b[0;34m,\u001b[0m \u001b[0mb\u001b[0m\u001b[0;34m)\u001b[0m\u001b[0;34m\u001b[0m\u001b[0;34m\u001b[0m\u001b[0m\n\u001b[1;32m    152\u001b[0m     \u001b[0;32melse\u001b[0m\u001b[0;34m:\u001b[0m\u001b[0;34m\u001b[0m\u001b[0;34m\u001b[0m\u001b[0m\n\u001b[0;32m--> 153\u001b[0;31m         \u001b[0mret\u001b[0m \u001b[0;34m=\u001b[0m \u001b[0ma\u001b[0m \u001b[0;34m@\u001b[0m \u001b[0mb\u001b[0m\u001b[0;34m\u001b[0m\u001b[0;34m\u001b[0m\u001b[0m\n\u001b[0m\u001b[1;32m    154\u001b[0m \u001b[0;34m\u001b[0m\u001b[0m\n\u001b[1;32m    155\u001b[0m     if (\n",
            "\u001b[0;32m/usr/local/lib/python3.7/dist-packages/scipy/sparse/base.py\u001b[0m in \u001b[0;36m__matmul__\u001b[0;34m(self, other)\u001b[0m\n\u001b[1;32m    558\u001b[0m             raise ValueError(\"Scalar operands are not allowed, \"\n\u001b[1;32m    559\u001b[0m                              \"use '*' instead\")\n\u001b[0;32m--> 560\u001b[0;31m         \u001b[0;32mreturn\u001b[0m \u001b[0mself\u001b[0m\u001b[0;34m.\u001b[0m\u001b[0m__mul__\u001b[0m\u001b[0;34m(\u001b[0m\u001b[0mother\u001b[0m\u001b[0;34m)\u001b[0m\u001b[0;34m\u001b[0m\u001b[0;34m\u001b[0m\u001b[0m\n\u001b[0m\u001b[1;32m    561\u001b[0m \u001b[0;34m\u001b[0m\u001b[0m\n\u001b[1;32m    562\u001b[0m     \u001b[0;32mdef\u001b[0m \u001b[0m__rmatmul__\u001b[0m\u001b[0;34m(\u001b[0m\u001b[0mself\u001b[0m\u001b[0;34m,\u001b[0m \u001b[0mother\u001b[0m\u001b[0;34m)\u001b[0m\u001b[0;34m:\u001b[0m\u001b[0;34m\u001b[0m\u001b[0;34m\u001b[0m\u001b[0m\n",
            "\u001b[0;32m/usr/local/lib/python3.7/dist-packages/scipy/sparse/base.py\u001b[0m in \u001b[0;36m__mul__\u001b[0;34m(self, other)\u001b[0m\n\u001b[1;32m    478\u001b[0m             \u001b[0;32mif\u001b[0m \u001b[0mself\u001b[0m\u001b[0;34m.\u001b[0m\u001b[0mshape\u001b[0m\u001b[0;34m[\u001b[0m\u001b[0;36m1\u001b[0m\u001b[0;34m]\u001b[0m \u001b[0;34m!=\u001b[0m \u001b[0mother\u001b[0m\u001b[0;34m.\u001b[0m\u001b[0mshape\u001b[0m\u001b[0;34m[\u001b[0m\u001b[0;36m0\u001b[0m\u001b[0;34m]\u001b[0m\u001b[0;34m:\u001b[0m\u001b[0;34m\u001b[0m\u001b[0;34m\u001b[0m\u001b[0m\n\u001b[1;32m    479\u001b[0m                 \u001b[0;32mraise\u001b[0m \u001b[0mValueError\u001b[0m\u001b[0;34m(\u001b[0m\u001b[0;34m'dimension mismatch'\u001b[0m\u001b[0;34m)\u001b[0m\u001b[0;34m\u001b[0m\u001b[0;34m\u001b[0m\u001b[0m\n\u001b[0;32m--> 480\u001b[0;31m             \u001b[0;32mreturn\u001b[0m \u001b[0mself\u001b[0m\u001b[0;34m.\u001b[0m\u001b[0m_mul_sparse_matrix\u001b[0m\u001b[0;34m(\u001b[0m\u001b[0mother\u001b[0m\u001b[0;34m)\u001b[0m\u001b[0;34m\u001b[0m\u001b[0;34m\u001b[0m\u001b[0m\n\u001b[0m\u001b[1;32m    481\u001b[0m \u001b[0;34m\u001b[0m\u001b[0m\n\u001b[1;32m    482\u001b[0m         \u001b[0;31m# If it's a list or whatever, treat it like a matrix\u001b[0m\u001b[0;34m\u001b[0m\u001b[0;34m\u001b[0m\u001b[0;34m\u001b[0m\u001b[0m\n",
            "\u001b[0;32m/usr/local/lib/python3.7/dist-packages/scipy/sparse/compressed.py\u001b[0m in \u001b[0;36m_mul_sparse_matrix\u001b[0;34m(self, other)\u001b[0m\n\u001b[1;32m    509\u001b[0m                  \u001b[0mnp\u001b[0m\u001b[0;34m.\u001b[0m\u001b[0masarray\u001b[0m\u001b[0;34m(\u001b[0m\u001b[0mself\u001b[0m\u001b[0;34m.\u001b[0m\u001b[0mindices\u001b[0m\u001b[0;34m,\u001b[0m \u001b[0mdtype\u001b[0m\u001b[0;34m=\u001b[0m\u001b[0midx_dtype\u001b[0m\u001b[0;34m)\u001b[0m\u001b[0;34m,\u001b[0m\u001b[0;34m\u001b[0m\u001b[0;34m\u001b[0m\u001b[0m\n\u001b[1;32m    510\u001b[0m                  \u001b[0mnp\u001b[0m\u001b[0;34m.\u001b[0m\u001b[0masarray\u001b[0m\u001b[0;34m(\u001b[0m\u001b[0mother\u001b[0m\u001b[0;34m.\u001b[0m\u001b[0mindptr\u001b[0m\u001b[0;34m,\u001b[0m \u001b[0mdtype\u001b[0m\u001b[0;34m=\u001b[0m\u001b[0midx_dtype\u001b[0m\u001b[0;34m)\u001b[0m\u001b[0;34m,\u001b[0m\u001b[0;34m\u001b[0m\u001b[0;34m\u001b[0m\u001b[0m\n\u001b[0;32m--> 511\u001b[0;31m                  np.asarray(other.indices, dtype=idx_dtype))\n\u001b[0m\u001b[1;32m    512\u001b[0m \u001b[0;34m\u001b[0m\u001b[0m\n\u001b[1;32m    513\u001b[0m         idx_dtype = get_index_dtype((self.indptr, self.indices,\n",
            "\u001b[0;31mKeyboardInterrupt\u001b[0m: "
          ]
        }
      ]
    },
    {
      "cell_type": "code",
      "source": [
        "ridge.set_params(**ridge_gs.best_params_) \n",
        "scores = cross_validate(ridge, dev_X, dev_y, cv=10, \n",
        "                        scoring=\"neg_mean_absolute_error\", return_train_score=True)\n",
        "print(\"Training error: \", np.mean(np.abs(scores[\"train_score\"])))\n",
        "print(\"Validation error: \", np.mean(np.abs(scores[\"test_score\"])))"
      ],
      "metadata": {
        "colab": {
          "base_uri": "https://localhost:8080/"
        },
        "id": "4in_l-2z4SoI",
        "outputId": "d9866c78-0bbc-4afe-c274-cd3824c6da1c"
      },
      "execution_count": 258,
      "outputs": [
        {
          "output_type": "stream",
          "name": "stdout",
          "text": [
            "Training error:  57.511567589041626\n",
            "Validation error:  58.446618909794076\n"
          ]
        }
      ]
    },
    {
      "cell_type": "code",
      "source": [
        "\n",
        "scores = cross_validate(ols, dev_X, dev_y, cv=10, \n",
        "                        scoring=\"neg_mean_absolute_error\", return_train_score=True)\n",
        "print(\"Training error: \", np.mean(np.abs(scores[\"train_score\"])))\n",
        "print(\"Validation error: \", np.mean(np.abs(scores[\"test_score\"])))"
      ],
      "metadata": {
        "colab": {
          "base_uri": "https://localhost:8080/"
        },
        "id": "NFXOisA2-PEi",
        "outputId": "574337c5-7880-45a2-fba1-f044be419dc8"
      },
      "execution_count": 259,
      "outputs": [
        {
          "output_type": "stream",
          "name": "stdout",
          "text": [
            "Training error:  57.45311038069328\n",
            "Validation error:  58.75921711649512\n"
          ]
        }
      ]
    },
    {
      "cell_type": "markdown",
      "source": [
        "#Evaluate the test set\n",
        "- using ridge given that it is the most accurate on our validation set"
      ],
      "metadata": {
        "id": "iQxojfB34Zco"
      }
    },
    {
      "cell_type": "code",
      "source": [
        "# Now we test on the test set\n",
        "mean_absolute_error(test_y, ridge_gs.predict(test_X))\n"
      ],
      "metadata": {
        "colab": {
          "base_uri": "https://localhost:8080/"
        },
        "id": "rFL9wbsL4e8U",
        "outputId": "6043eb43-9123-43bd-8f8e-35afd8fc6ca3"
      },
      "execution_count": 260,
      "outputs": [
        {
          "output_type": "execute_result",
          "data": {
            "text/plain": [
              "57.61157784600891"
            ]
          },
          "metadata": {},
          "execution_count": 260
        }
      ]
    },
    {
      "cell_type": "markdown",
      "source": [
        "## So on average we are 57,000 off from the actual salary, which is terrible, but ill save it nonetheless"
      ],
      "metadata": {
        "id": "wlmIa7h5FJzc"
      }
    },
    {
      "cell_type": "code",
      "source": [
        "ridge_gs.fit(df[features], df[\"totalyearlycompensation\"].values)\n",
        "dump(knn, 'models/my_model.pkl') "
      ],
      "metadata": {
        "id": "2UPQTH174kLR"
      },
      "execution_count": null,
      "outputs": []
    },
    {
      "cell_type": "code",
      "source": [],
      "metadata": {
        "id": "niTOTlonAj_k"
      },
      "execution_count": null,
      "outputs": []
    }
  ]
}